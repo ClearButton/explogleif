{
 "cells": [
  {
   "cell_type": "code",
   "execution_count": 19,
   "id": "246647c8",
   "metadata": {
    "ExecuteTime": {
     "end_time": "2022-08-23T09:12:59.157881Z",
     "start_time": "2022-08-23T09:12:58.290874Z"
    }
   },
   "outputs": [],
   "source": [
    "import requests\n",
    "import pandas as pd\n",
    "from explogleif.entity import Entity"
   ]
  },
  {
   "cell_type": "code",
   "execution_count": 2,
   "id": "7ee11b22",
   "metadata": {
    "ExecuteTime": {
     "end_time": "2022-08-22T12:57:09.930018Z",
     "start_time": "2022-08-22T12:57:09.927031Z"
    },
    "scrolled": true
   },
   "outputs": [],
   "source": [
    "# exemple with Danone FR, LEI: 969500KMUQ2B6CBAF162\n",
    "lei_danone = '969500KMUQ2B6CBAF162'\n"
   ]
  },
  {
   "cell_type": "markdown",
   "id": "f8b9970b",
   "metadata": {},
   "source": [
    "# Exploration de la base de données du LEI"
   ]
  },
  {
   "cell_type": "markdown",
   "id": "333bdf5a",
   "metadata": {
    "heading_collapsed": true
   },
   "source": [
    "## Count of LEIs + latest registration"
   ]
  },
  {
   "cell_type": "code",
   "execution_count": 112,
   "id": "61583bb4",
   "metadata": {
    "ExecuteTime": {
     "end_time": "2022-08-22T20:42:21.602932Z",
     "start_time": "2022-08-22T20:42:21.600521Z"
    },
    "hidden": true
   },
   "outputs": [],
   "source": [
    "url = 'https://api.gleif.org/api/v1/lei-records'"
   ]
  },
  {
   "cell_type": "code",
   "execution_count": 113,
   "id": "0ac9aae9",
   "metadata": {
    "ExecuteTime": {
     "end_time": "2022-08-22T20:42:22.169604Z",
     "start_time": "2022-08-22T20:42:22.166524Z"
    },
    "hidden": true
   },
   "outputs": [],
   "source": [
    "params = {\n",
    "    # Country code\n",
    "    # FR for France, DE for Germany and so on...\n",
    "    'filter[entity.legalAddress.country]': None,\n",
    "    \n",
    "    # Entity category\n",
    "    # BRANCH, FUND, SOLE_PROPRIETOR, GENERAL, RESIDENT_GOVERNMENT_ENTITY, INTERNATIONAL_ORGANIZATION\n",
    "    'filter[entity.category]': None,\n",
    "    \n",
    "    # List of status\n",
    "    # ISSUED, LAPSED, ANNULLED, PENDING_TRANSFER, PENDING_ARCHIVAL, DUPLICATE, RETIRED, MERGED\n",
    "    'filter[registration.status]': None,\n",
    "    \n",
    "    \n",
    "    # pagination\n",
    "    \n",
    "    # Which page to show, from the total result set. Must be at least 1.\n",
    "    'page[number]': 1,\n",
    "    \n",
    "    # Number of LEI Records to show in each page of results (one page per API response body). Must be between 1 and 200.\n",
    "    'page[size]': 1\n",
    "}"
   ]
  },
  {
   "cell_type": "code",
   "execution_count": 117,
   "id": "333acb3b",
   "metadata": {
    "ExecuteTime": {
     "end_time": "2022-08-22T20:42:40.519014Z",
     "start_time": "2022-08-22T20:42:40.268815Z"
    },
    "hidden": true
   },
   "outputs": [
    {
     "data": {
      "text/plain": [
       "<Response [200]>"
      ]
     },
     "execution_count": 117,
     "metadata": {},
     "output_type": "execute_result"
    }
   ],
   "source": [
    "response2 = requests.get(url,params=params)\n",
    "response2"
   ]
  },
  {
   "cell_type": "code",
   "execution_count": 118,
   "id": "4ba6d3c0",
   "metadata": {
    "ExecuteTime": {
     "end_time": "2022-08-22T20:42:41.286608Z",
     "start_time": "2022-08-22T20:42:41.283906Z"
    },
    "hidden": true
   },
   "outputs": [],
   "source": [
    "response2 = response2.json()"
   ]
  },
  {
   "cell_type": "code",
   "execution_count": 119,
   "id": "910ecf7c",
   "metadata": {
    "ExecuteTime": {
     "end_time": "2022-08-22T20:42:42.922286Z",
     "start_time": "2022-08-22T20:42:42.917825Z"
    },
    "hidden": true
   },
   "outputs": [
    {
     "data": {
      "text/plain": [
       "dict_keys(['meta', 'links', 'data'])"
      ]
     },
     "execution_count": 119,
     "metadata": {},
     "output_type": "execute_result"
    }
   ],
   "source": [
    "response2.keys()"
   ]
  },
  {
   "cell_type": "code",
   "execution_count": 120,
   "id": "671ef3d1",
   "metadata": {
    "ExecuteTime": {
     "end_time": "2022-08-22T20:42:44.668242Z",
     "start_time": "2022-08-22T20:42:44.663593Z"
    },
    "hidden": true
   },
   "outputs": [
    {
     "data": {
      "text/plain": [
       "2188202"
      ]
     },
     "execution_count": 120,
     "metadata": {},
     "output_type": "execute_result"
    }
   ],
   "source": [
    "response2['meta']['pagination']['total']"
   ]
  },
  {
   "cell_type": "code",
   "execution_count": 121,
   "id": "420f6fbf",
   "metadata": {
    "ExecuteTime": {
     "end_time": "2022-08-22T20:42:46.517959Z",
     "start_time": "2022-08-22T20:42:46.503869Z"
    },
    "hidden": true
   },
   "outputs": [
    {
     "data": {
      "text/plain": [
       "{'initialRegistrationDate': '2022-08-22T07:14:03Z',\n",
       " 'lastUpdateDate': '2022-08-22T07:17:33Z',\n",
       " 'status': 'ISSUED',\n",
       " 'nextRenewalDate': '2023-08-22T07:17:23Z',\n",
       " 'managingLou': '529900T8BM49AURSDO55',\n",
       " 'corroborationLevel': 'FULLY_CORROBORATED',\n",
       " 'validatedAt': {'id': 'RA000394', 'other': None},\n",
       " 'validatedAs': 'U22110DL1999PTC099814',\n",
       " 'otherValidationAuthorities': [{'validatedAt': {'id': 'RA000754'},\n",
       "   'validatedAs': '07AACCP5921G2ZI'}]}"
      ]
     },
     "execution_count": 121,
     "metadata": {},
     "output_type": "execute_result"
    }
   ],
   "source": [
    "response2['data'][0]['attributes']['registration']"
   ]
  },
  {
   "cell_type": "markdown",
   "id": "423095ac",
   "metadata": {
    "heading_collapsed": true
   },
   "source": [
    "## Search for an entity (fuzzy completion)"
   ]
  },
  {
   "cell_type": "code",
   "execution_count": 128,
   "id": "32502cca",
   "metadata": {
    "ExecuteTime": {
     "end_time": "2022-08-22T20:47:37.933998Z",
     "start_time": "2022-08-22T20:47:37.897096Z"
    },
    "hidden": true
   },
   "outputs": [],
   "source": [
    "url = \"https://api.gleif.org/api/v1/fuzzycompletions\""
   ]
  },
  {
   "cell_type": "code",
   "execution_count": 129,
   "id": "abd5bd35",
   "metadata": {
    "ExecuteTime": {
     "end_time": "2022-08-22T20:47:38.196699Z",
     "start_time": "2022-08-22T20:47:38.193274Z"
    },
    "hidden": true
   },
   "outputs": [],
   "source": [
    "user_input = \"danone\""
   ]
  },
  {
   "cell_type": "code",
   "execution_count": 130,
   "id": "7ac92c6b",
   "metadata": {
    "ExecuteTime": {
     "end_time": "2022-08-22T20:47:38.535393Z",
     "start_time": "2022-08-22T20:47:38.532077Z"
    },
    "hidden": true
   },
   "outputs": [],
   "source": [
    "params = {\n",
    "    'field': 'entity.legalName',\n",
    "    'q': user_input\n",
    "}"
   ]
  },
  {
   "cell_type": "code",
   "execution_count": 131,
   "id": "d9fc28bc",
   "metadata": {
    "ExecuteTime": {
     "end_time": "2022-08-22T20:47:39.191732Z",
     "start_time": "2022-08-22T20:47:38.954379Z"
    },
    "hidden": true,
    "scrolled": true
   },
   "outputs": [
    {
     "data": {
      "text/plain": [
       "<Response [200]>"
      ]
     },
     "execution_count": 131,
     "metadata": {},
     "output_type": "execute_result"
    }
   ],
   "source": [
    "requests.get(url,params=payload)"
   ]
  },
  {
   "cell_type": "code",
   "execution_count": 132,
   "id": "63e8f004",
   "metadata": {
    "ExecuteTime": {
     "end_time": "2022-08-22T20:47:39.551796Z",
     "start_time": "2022-08-22T20:47:39.369543Z"
    },
    "hidden": true
   },
   "outputs": [
    {
     "data": {
      "text/plain": [
       "<Response [200]>"
      ]
     },
     "execution_count": 132,
     "metadata": {},
     "output_type": "execute_result"
    }
   ],
   "source": [
    "response = requests.get(url,params=params)\n",
    "response"
   ]
  },
  {
   "cell_type": "code",
   "execution_count": 135,
   "id": "b4288a4f",
   "metadata": {
    "ExecuteTime": {
     "end_time": "2022-08-22T20:49:54.731229Z",
     "start_time": "2022-08-22T20:49:54.722206Z"
    },
    "hidden": true
   },
   "outputs": [
    {
     "data": {
      "text/plain": [
       "{'data': [{'type': 'fuzzycompletions', 'attributes': {'value': 'DANONE'}},\n",
       "  {'type': 'fuzzycompletions',\n",
       "   'attributes': {'value': 'DAMONET'},\n",
       "   'relationships': {'lei-records': {'data': {'type': 'lei-records',\n",
       "      'id': '894500P2FHRGMZXCWD75'},\n",
       "     'links': {'related': 'https://api.gleif.org/api/v1/lei-records/894500P2FHRGMZXCWD75'}}}},\n",
       "  {'type': 'fuzzycompletions',\n",
       "   'attributes': {'value': 'Davonel'},\n",
       "   'relationships': {'lei-records': {'data': {'type': 'lei-records',\n",
       "      'id': '894500Z11BHYAU2GDT58'},\n",
       "     'links': {'related': 'https://api.gleif.org/api/v1/lei-records/894500Z11BHYAU2GDT58'}}}},\n",
       "  {'type': 'fuzzycompletions',\n",
       "   'attributes': {'value': 'DANON LP'},\n",
       "   'relationships': {'lei-records': {'data': {'type': 'lei-records',\n",
       "      'id': '254900F6H310ZAE34N45'},\n",
       "     'links': {'related': 'https://api.gleif.org/api/v1/lei-records/254900F6H310ZAE34N45'}}}},\n",
       "  {'type': 'fuzzycompletions',\n",
       "   'attributes': {'value': 'DACONE SL'},\n",
       "   'relationships': {'lei-records': {'data': {'type': 'lei-records',\n",
       "      'id': '95980020140006005932'},\n",
       "     'links': {'related': 'https://api.gleif.org/api/v1/lei-records/95980020140006005932'}}}},\n",
       "  {'type': 'fuzzycompletions',\n",
       "   'attributes': {'value': 'DANONE AB'},\n",
       "   'relationships': {'lei-records': {'data': {'type': 'lei-records',\n",
       "      'id': '213800LUDZ3HKY1Q9W80'},\n",
       "     'links': {'related': 'https://api.gleif.org/api/v1/lei-records/213800LUDZ3HKY1Q9W80'}}}},\n",
       "  {'type': 'fuzzycompletions',\n",
       "   'attributes': {'value': 'DANONE RE'},\n",
       "   'relationships': {'lei-records': {'data': {'type': 'lei-records',\n",
       "      'id': '2221006U54IBJST8U288'},\n",
       "     'links': {'related': 'https://api.gleif.org/api/v1/lei-records/2221006U54IBJST8U288'}}}},\n",
       "  {'type': 'fuzzycompletions',\n",
       "   'attributes': {'value': 'DANONE SA'},\n",
       "   'relationships': {'lei-records': {'data': {'type': 'lei-records',\n",
       "      'id': '213800S18Y5XNF6TLB35'},\n",
       "     'links': {'related': 'https://api.gleif.org/api/v1/lei-records/213800S18Y5XNF6TLB35'}}}},\n",
       "  {'type': 'fuzzycompletions',\n",
       "   'attributes': {'value': 'DANONI AS'},\n",
       "   'relationships': {'lei-records': {'data': {'type': 'lei-records',\n",
       "      'id': '549300N7SEP481QXGL94'},\n",
       "     'links': {'related': 'https://api.gleif.org/api/v1/lei-records/549300N7SEP481QXGL94'}}}},\n",
       "  {'type': 'fuzzycompletions',\n",
       "   'attributes': {'value': 'DAYONE AS'},\n",
       "   'relationships': {'lei-records': {'data': {'type': 'lei-records',\n",
       "      'id': '549300DTGMRUDBHDEI19'},\n",
       "     'links': {'related': 'https://api.gleif.org/api/v1/lei-records/549300DTGMRUDBHDEI19'}}}}]}"
      ]
     },
     "execution_count": 135,
     "metadata": {},
     "output_type": "execute_result"
    }
   ],
   "source": [
    "my_json = response.json()\n",
    "my_json"
   ]
  },
  {
   "cell_type": "code",
   "execution_count": 138,
   "id": "455b40f1",
   "metadata": {
    "ExecuteTime": {
     "end_time": "2022-08-22T20:52:05.573860Z",
     "start_time": "2022-08-22T20:52:05.536077Z"
    },
    "hidden": true
   },
   "outputs": [
    {
     "name": "stdout",
     "output_type": "stream",
     "text": [
      "{'value': 'DANONE'}\n",
      "{'value': 'DAMONET'}\n",
      "{'value': 'Davonel'}\n",
      "{'value': 'DANON LP'}\n",
      "{'value': 'DACONE SL'}\n",
      "{'value': 'DANONE AB'}\n",
      "{'value': 'DANONE RE'}\n",
      "{'value': 'DANONE SA'}\n",
      "{'value': 'DANONI AS'}\n",
      "{'value': 'DAYONE AS'}\n"
     ]
    }
   ],
   "source": [
    "for entity in my_json['data']:\n",
    "    print(entity['attributes'])"
   ]
  },
  {
   "cell_type": "markdown",
   "id": "be6b6dda",
   "metadata": {},
   "source": [
    "## Search for an entity (filter[entity.names])"
   ]
  },
  {
   "cell_type": "code",
   "execution_count": 11,
   "id": "f69c6ba3",
   "metadata": {
    "ExecuteTime": {
     "end_time": "2022-08-23T09:08:57.964872Z",
     "start_time": "2022-08-23T09:08:57.962412Z"
    }
   },
   "outputs": [],
   "source": [
    "url = \"https://api.gleif.org/api/v1/lei-records\""
   ]
  },
  {
   "cell_type": "code",
   "execution_count": 31,
   "id": "de53973c",
   "metadata": {
    "ExecuteTime": {
     "end_time": "2022-08-23T10:17:18.865779Z",
     "start_time": "2022-08-23T10:17:18.832709Z"
    }
   },
   "outputs": [],
   "source": [
    "user_input = \"azertyuiokjhgyujhg\"\n",
    "page_number = 1\n",
    "page_size = 200"
   ]
  },
  {
   "cell_type": "code",
   "execution_count": 32,
   "id": "0ed3a719",
   "metadata": {
    "ExecuteTime": {
     "end_time": "2022-08-23T10:17:19.295911Z",
     "start_time": "2022-08-23T10:17:19.290806Z"
    }
   },
   "outputs": [],
   "source": [
    "params = {\n",
    "        \"filter[entity.names]\": user_input,\n",
    "        \"page[number]\": page_number,\n",
    "        \"page[size]\": page_size,\n",
    "    }"
   ]
  },
  {
   "cell_type": "code",
   "execution_count": 33,
   "id": "5b703775",
   "metadata": {
    "ExecuteTime": {
     "end_time": "2022-08-23T10:17:20.169226Z",
     "start_time": "2022-08-23T10:17:19.713033Z"
    }
   },
   "outputs": [],
   "source": [
    "response = requests.get(url, params=params).json()"
   ]
  },
  {
   "cell_type": "code",
   "execution_count": 34,
   "id": "c6c49665",
   "metadata": {
    "ExecuteTime": {
     "end_time": "2022-08-23T10:17:27.255312Z",
     "start_time": "2022-08-23T10:17:27.244265Z"
    }
   },
   "outputs": [
    {
     "data": {
      "text/plain": [
       "{'meta': {'goldenCopy': {'publishDate': '2022-08-23T00:00:00Z'},\n",
       "  'pagination': {'currentPage': 1,\n",
       "   'perPage': 200,\n",
       "   'from': None,\n",
       "   'to': None,\n",
       "   'total': 0,\n",
       "   'lastPage': 1}},\n",
       " 'links': {'first': 'https://api.gleif.org/api/v1/lei-records?filter%5Bentity.names%5D=azertyuiokjhgyujhg&page%5Bnumber%5D=1&page%5Bsize%5D=200',\n",
       "  'last': 'https://api.gleif.org/api/v1/lei-records?filter%5Bentity.names%5D=azertyuiokjhgyujhg&page%5Bnumber%5D=1&page%5Bsize%5D=200'},\n",
       " 'data': []}"
      ]
     },
     "execution_count": 34,
     "metadata": {},
     "output_type": "execute_result"
    }
   ],
   "source": [
    "response"
   ]
  },
  {
   "cell_type": "code",
   "execution_count": 35,
   "id": "e3fb93a9",
   "metadata": {
    "ExecuteTime": {
     "end_time": "2022-08-23T10:17:44.073041Z",
     "start_time": "2022-08-23T10:17:44.054282Z"
    }
   },
   "outputs": [
    {
     "name": "stdout",
     "output_type": "stream",
     "text": [
      "Showing only  200  out of  0  results.\n"
     ]
    }
   ],
   "source": [
    "print(\"Showing only \",response[\"meta\"][\"pagination\"][\"perPage\"],\" out of \",response[\"meta\"][\"pagination\"][\"total\"],\" results.\")"
   ]
  },
  {
   "cell_type": "code",
   "execution_count": 36,
   "id": "b6fab548",
   "metadata": {
    "ExecuteTime": {
     "end_time": "2022-08-23T10:17:46.577736Z",
     "start_time": "2022-08-23T10:17:46.566572Z"
    }
   },
   "outputs": [],
   "source": [
    "entity_list = []\n",
    "\n",
    "for json_entity in response[\"data\"]:\n",
    "\n",
    "    new_entity = Entity(\n",
    "        name=json_entity[\"attributes\"][\"entity\"][\"legalName\"][\"name\"],\n",
    "        lei=json_entity[\"id\"],\n",
    "        city=json_entity[\"attributes\"][\"entity\"][\"legalAddress\"]['city'],\n",
    "        country=json_entity[\"attributes\"][\"entity\"][\"legalAddress\"]['country'])\n",
    "\n",
    "    entity_list.append(new_entity)\n",
    "\n",
    "    print(\"Name : \", new_entity.name)\n",
    "    print(\"LEI : \", new_entity.lei)\n",
    "    print(\"Address : \", new_entity.city, \", \", new_entity.country)\n",
    "    print(\"\\n\")"
   ]
  },
  {
   "cell_type": "code",
   "execution_count": 37,
   "id": "9f6a85f8",
   "metadata": {
    "ExecuteTime": {
     "end_time": "2022-08-23T10:17:48.107034Z",
     "start_time": "2022-08-23T10:17:48.088553Z"
    }
   },
   "outputs": [
    {
     "data": {
      "text/plain": [
       "0"
      ]
     },
     "execution_count": 37,
     "metadata": {},
     "output_type": "execute_result"
    }
   ],
   "source": [
    "entity_dict = {\"name\": [], \"lei\": [], \"city\": [], \"country\": []}\n",
    "\n",
    "for entity in entity_list:\n",
    "    entity_dict[\"name\"].append(entity.name)\n",
    "    entity_dict[\"lei\"].append(entity.lei)\n",
    "    entity_dict[\"city\"].append(entity.city)\n",
    "    entity_dict[\"country\"].append(entity.country)\n",
    "\n",
    "df = pd.DataFrame.from_dict(entity_dict)\n",
    "df.shape[0]"
   ]
  },
  {
   "cell_type": "code",
   "execution_count": 38,
   "id": "63d362a0",
   "metadata": {
    "ExecuteTime": {
     "end_time": "2022-08-23T10:17:50.070722Z",
     "start_time": "2022-08-23T10:17:50.066805Z"
    }
   },
   "outputs": [
    {
     "data": {
      "text/plain": [
       "0"
      ]
     },
     "execution_count": 38,
     "metadata": {},
     "output_type": "execute_result"
    }
   ],
   "source": [
    "response['meta']['pagination']['total']"
   ]
  },
  {
   "cell_type": "code",
   "execution_count": null,
   "id": "fce4a815",
   "metadata": {},
   "outputs": [],
   "source": []
  }
 ],
 "metadata": {
  "kernelspec": {
   "display_name": "Python 3 (ipykernel)",
   "language": "python",
   "name": "python3"
  },
  "language_info": {
   "codemirror_mode": {
    "name": "ipython",
    "version": 3
   },
   "file_extension": ".py",
   "mimetype": "text/x-python",
   "name": "python",
   "nbconvert_exporter": "python",
   "pygments_lexer": "ipython3",
   "version": "3.8.12"
  },
  "toc": {
   "base_numbering": 1,
   "nav_menu": {},
   "number_sections": true,
   "sideBar": true,
   "skip_h1_title": false,
   "title_cell": "Table of Contents",
   "title_sidebar": "Contents",
   "toc_cell": false,
   "toc_position": {},
   "toc_section_display": true,
   "toc_window_display": false
  },
  "varInspector": {
   "cols": {
    "lenName": 16,
    "lenType": 16,
    "lenVar": 40
   },
   "kernels_config": {
    "python": {
     "delete_cmd_postfix": "",
     "delete_cmd_prefix": "del ",
     "library": "var_list.py",
     "varRefreshCmd": "print(var_dic_list())"
    },
    "r": {
     "delete_cmd_postfix": ") ",
     "delete_cmd_prefix": "rm(",
     "library": "var_list.r",
     "varRefreshCmd": "cat(var_dic_list()) "
    }
   },
   "types_to_exclude": [
    "module",
    "function",
    "builtin_function_or_method",
    "instance",
    "_Feature"
   ],
   "window_display": false
  }
 },
 "nbformat": 4,
 "nbformat_minor": 5
}
