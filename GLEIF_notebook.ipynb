{
 "cells": [
  {
   "cell_type": "code",
   "execution_count": 19,
   "id": "246647c8",
   "metadata": {
    "ExecuteTime": {
     "end_time": "2022-08-23T09:12:59.157881Z",
     "start_time": "2022-08-23T09:12:58.290874Z"
    }
   },
   "outputs": [],
   "source": [
    "import requests\n",
    "import pandas as pd\n",
    "from explogleif.entity import Entity"
   ]
  },
  {
   "cell_type": "code",
   "execution_count": 2,
   "id": "7ee11b22",
   "metadata": {
    "ExecuteTime": {
     "end_time": "2022-08-22T12:57:09.930018Z",
     "start_time": "2022-08-22T12:57:09.927031Z"
    },
    "scrolled": true
   },
   "outputs": [],
   "source": [
    "# exemple with Danone FR, LEI: 969500KMUQ2B6CBAF162\n",
    "lei_danone = '969500KMUQ2B6CBAF162'\n"
   ]
  },
  {
   "cell_type": "markdown",
   "id": "f8b9970b",
   "metadata": {},
   "source": [
    "# Exploration de la base de données du LEI"
   ]
  },
  {
   "cell_type": "markdown",
   "id": "333bdf5a",
   "metadata": {
    "heading_collapsed": true
   },
   "source": [
    "## Count of LEIs + latest registration"
   ]
  },
  {
   "cell_type": "code",
   "execution_count": 112,
   "id": "61583bb4",
   "metadata": {
    "ExecuteTime": {
     "end_time": "2022-08-22T20:42:21.602932Z",
     "start_time": "2022-08-22T20:42:21.600521Z"
    },
    "hidden": true
   },
   "outputs": [],
   "source": [
    "url = 'https://api.gleif.org/api/v1/lei-records'"
   ]
  },
  {
   "cell_type": "code",
   "execution_count": 113,
   "id": "0ac9aae9",
   "metadata": {
    "ExecuteTime": {
     "end_time": "2022-08-22T20:42:22.169604Z",
     "start_time": "2022-08-22T20:42:22.166524Z"
    },
    "hidden": true
   },
   "outputs": [],
   "source": [
    "params = {\n",
    "    # Country code\n",
    "    # FR for France, DE for Germany and so on...\n",
    "    'filter[entity.legalAddress.country]': None,\n",
    "    \n",
    "    # Entity category\n",
    "    # BRANCH, FUND, SOLE_PROPRIETOR, GENERAL, RESIDENT_GOVERNMENT_ENTITY, INTERNATIONAL_ORGANIZATION\n",
    "    'filter[entity.category]': None,\n",
    "    \n",
    "    # List of status\n",
    "    # ISSUED, LAPSED, ANNULLED, PENDING_TRANSFER, PENDING_ARCHIVAL, DUPLICATE, RETIRED, MERGED\n",
    "    'filter[registration.status]': None,\n",
    "    \n",
    "    \n",
    "    # pagination\n",
    "    \n",
    "    # Which page to show, from the total result set. Must be at least 1.\n",
    "    'page[number]': 1,\n",
    "    \n",
    "    # Number of LEI Records to show in each page of results (one page per API response body). Must be between 1 and 200.\n",
    "    'page[size]': 1\n",
    "}"
   ]
  },
  {
   "cell_type": "code",
   "execution_count": 117,
   "id": "333acb3b",
   "metadata": {
    "ExecuteTime": {
     "end_time": "2022-08-22T20:42:40.519014Z",
     "start_time": "2022-08-22T20:42:40.268815Z"
    },
    "hidden": true
   },
   "outputs": [
    {
     "data": {
      "text/plain": [
       "<Response [200]>"
      ]
     },
     "execution_count": 117,
     "metadata": {},
     "output_type": "execute_result"
    }
   ],
   "source": [
    "response2 = requests.get(url,params=params)\n",
    "response2"
   ]
  },
  {
   "cell_type": "code",
   "execution_count": 118,
   "id": "4ba6d3c0",
   "metadata": {
    "ExecuteTime": {
     "end_time": "2022-08-22T20:42:41.286608Z",
     "start_time": "2022-08-22T20:42:41.283906Z"
    },
    "hidden": true
   },
   "outputs": [],
   "source": [
    "response2 = response2.json()"
   ]
  },
  {
   "cell_type": "code",
   "execution_count": 119,
   "id": "910ecf7c",
   "metadata": {
    "ExecuteTime": {
     "end_time": "2022-08-22T20:42:42.922286Z",
     "start_time": "2022-08-22T20:42:42.917825Z"
    },
    "hidden": true
   },
   "outputs": [
    {
     "data": {
      "text/plain": [
       "dict_keys(['meta', 'links', 'data'])"
      ]
     },
     "execution_count": 119,
     "metadata": {},
     "output_type": "execute_result"
    }
   ],
   "source": [
    "response2.keys()"
   ]
  },
  {
   "cell_type": "code",
   "execution_count": 120,
   "id": "671ef3d1",
   "metadata": {
    "ExecuteTime": {
     "end_time": "2022-08-22T20:42:44.668242Z",
     "start_time": "2022-08-22T20:42:44.663593Z"
    },
    "hidden": true
   },
   "outputs": [
    {
     "data": {
      "text/plain": [
       "2188202"
      ]
     },
     "execution_count": 120,
     "metadata": {},
     "output_type": "execute_result"
    }
   ],
   "source": [
    "response2['meta']['pagination']['total']"
   ]
  },
  {
   "cell_type": "code",
   "execution_count": 121,
   "id": "420f6fbf",
   "metadata": {
    "ExecuteTime": {
     "end_time": "2022-08-22T20:42:46.517959Z",
     "start_time": "2022-08-22T20:42:46.503869Z"
    },
    "hidden": true
   },
   "outputs": [
    {
     "data": {
      "text/plain": [
       "{'initialRegistrationDate': '2022-08-22T07:14:03Z',\n",
       " 'lastUpdateDate': '2022-08-22T07:17:33Z',\n",
       " 'status': 'ISSUED',\n",
       " 'nextRenewalDate': '2023-08-22T07:17:23Z',\n",
       " 'managingLou': '529900T8BM49AURSDO55',\n",
       " 'corroborationLevel': 'FULLY_CORROBORATED',\n",
       " 'validatedAt': {'id': 'RA000394', 'other': None},\n",
       " 'validatedAs': 'U22110DL1999PTC099814',\n",
       " 'otherValidationAuthorities': [{'validatedAt': {'id': 'RA000754'},\n",
       "   'validatedAs': '07AACCP5921G2ZI'}]}"
      ]
     },
     "execution_count": 121,
     "metadata": {},
     "output_type": "execute_result"
    }
   ],
   "source": [
    "response2['data'][0]['attributes']['registration']"
   ]
  },
  {
   "cell_type": "markdown",
   "id": "423095ac",
   "metadata": {
    "heading_collapsed": true
   },
   "source": [
    "## Search for an entity (fuzzy completion)"
   ]
  },
  {
   "cell_type": "code",
   "execution_count": 128,
   "id": "32502cca",
   "metadata": {
    "ExecuteTime": {
     "end_time": "2022-08-22T20:47:37.933998Z",
     "start_time": "2022-08-22T20:47:37.897096Z"
    },
    "hidden": true
   },
   "outputs": [],
   "source": [
    "url = \"https://api.gleif.org/api/v1/fuzzycompletions\""
   ]
  },
  {
   "cell_type": "code",
   "execution_count": 129,
   "id": "abd5bd35",
   "metadata": {
    "ExecuteTime": {
     "end_time": "2022-08-22T20:47:38.196699Z",
     "start_time": "2022-08-22T20:47:38.193274Z"
    },
    "hidden": true
   },
   "outputs": [],
   "source": [
    "user_input = \"danone\""
   ]
  },
  {
   "cell_type": "code",
   "execution_count": 130,
   "id": "7ac92c6b",
   "metadata": {
    "ExecuteTime": {
     "end_time": "2022-08-22T20:47:38.535393Z",
     "start_time": "2022-08-22T20:47:38.532077Z"
    },
    "hidden": true
   },
   "outputs": [],
   "source": [
    "params = {\n",
    "    'field': 'entity.legalName',\n",
    "    'q': user_input\n",
    "}"
   ]
  },
  {
   "cell_type": "code",
   "execution_count": 131,
   "id": "d9fc28bc",
   "metadata": {
    "ExecuteTime": {
     "end_time": "2022-08-22T20:47:39.191732Z",
     "start_time": "2022-08-22T20:47:38.954379Z"
    },
    "hidden": true,
    "scrolled": true
   },
   "outputs": [
    {
     "data": {
      "text/plain": [
       "<Response [200]>"
      ]
     },
     "execution_count": 131,
     "metadata": {},
     "output_type": "execute_result"
    }
   ],
   "source": [
    "requests.get(url,params=payload)"
   ]
  },
  {
   "cell_type": "code",
   "execution_count": 132,
   "id": "63e8f004",
   "metadata": {
    "ExecuteTime": {
     "end_time": "2022-08-22T20:47:39.551796Z",
     "start_time": "2022-08-22T20:47:39.369543Z"
    },
    "hidden": true
   },
   "outputs": [
    {
     "data": {
      "text/plain": [
       "<Response [200]>"
      ]
     },
     "execution_count": 132,
     "metadata": {},
     "output_type": "execute_result"
    }
   ],
   "source": [
    "response = requests.get(url,params=params)\n",
    "response"
   ]
  },
  {
   "cell_type": "code",
   "execution_count": 135,
   "id": "b4288a4f",
   "metadata": {
    "ExecuteTime": {
     "end_time": "2022-08-22T20:49:54.731229Z",
     "start_time": "2022-08-22T20:49:54.722206Z"
    },
    "hidden": true
   },
   "outputs": [
    {
     "data": {
      "text/plain": [
       "{'data': [{'type': 'fuzzycompletions', 'attributes': {'value': 'DANONE'}},\n",
       "  {'type': 'fuzzycompletions',\n",
       "   'attributes': {'value': 'DAMONET'},\n",
       "   'relationships': {'lei-records': {'data': {'type': 'lei-records',\n",
       "      'id': '894500P2FHRGMZXCWD75'},\n",
       "     'links': {'related': 'https://api.gleif.org/api/v1/lei-records/894500P2FHRGMZXCWD75'}}}},\n",
       "  {'type': 'fuzzycompletions',\n",
       "   'attributes': {'value': 'Davonel'},\n",
       "   'relationships': {'lei-records': {'data': {'type': 'lei-records',\n",
       "      'id': '894500Z11BHYAU2GDT58'},\n",
       "     'links': {'related': 'https://api.gleif.org/api/v1/lei-records/894500Z11BHYAU2GDT58'}}}},\n",
       "  {'type': 'fuzzycompletions',\n",
       "   'attributes': {'value': 'DANON LP'},\n",
       "   'relationships': {'lei-records': {'data': {'type': 'lei-records',\n",
       "      'id': '254900F6H310ZAE34N45'},\n",
       "     'links': {'related': 'https://api.gleif.org/api/v1/lei-records/254900F6H310ZAE34N45'}}}},\n",
       "  {'type': 'fuzzycompletions',\n",
       "   'attributes': {'value': 'DACONE SL'},\n",
       "   'relationships': {'lei-records': {'data': {'type': 'lei-records',\n",
       "      'id': '95980020140006005932'},\n",
       "     'links': {'related': 'https://api.gleif.org/api/v1/lei-records/95980020140006005932'}}}},\n",
       "  {'type': 'fuzzycompletions',\n",
       "   'attributes': {'value': 'DANONE AB'},\n",
       "   'relationships': {'lei-records': {'data': {'type': 'lei-records',\n",
       "      'id': '213800LUDZ3HKY1Q9W80'},\n",
       "     'links': {'related': 'https://api.gleif.org/api/v1/lei-records/213800LUDZ3HKY1Q9W80'}}}},\n",
       "  {'type': 'fuzzycompletions',\n",
       "   'attributes': {'value': 'DANONE RE'},\n",
       "   'relationships': {'lei-records': {'data': {'type': 'lei-records',\n",
       "      'id': '2221006U54IBJST8U288'},\n",
       "     'links': {'related': 'https://api.gleif.org/api/v1/lei-records/2221006U54IBJST8U288'}}}},\n",
       "  {'type': 'fuzzycompletions',\n",
       "   'attributes': {'value': 'DANONE SA'},\n",
       "   'relationships': {'lei-records': {'data': {'type': 'lei-records',\n",
       "      'id': '213800S18Y5XNF6TLB35'},\n",
       "     'links': {'related': 'https://api.gleif.org/api/v1/lei-records/213800S18Y5XNF6TLB35'}}}},\n",
       "  {'type': 'fuzzycompletions',\n",
       "   'attributes': {'value': 'DANONI AS'},\n",
       "   'relationships': {'lei-records': {'data': {'type': 'lei-records',\n",
       "      'id': '549300N7SEP481QXGL94'},\n",
       "     'links': {'related': 'https://api.gleif.org/api/v1/lei-records/549300N7SEP481QXGL94'}}}},\n",
       "  {'type': 'fuzzycompletions',\n",
       "   'attributes': {'value': 'DAYONE AS'},\n",
       "   'relationships': {'lei-records': {'data': {'type': 'lei-records',\n",
       "      'id': '549300DTGMRUDBHDEI19'},\n",
       "     'links': {'related': 'https://api.gleif.org/api/v1/lei-records/549300DTGMRUDBHDEI19'}}}}]}"
      ]
     },
     "execution_count": 135,
     "metadata": {},
     "output_type": "execute_result"
    }
   ],
   "source": [
    "my_json = response.json()\n",
    "my_json"
   ]
  },
  {
   "cell_type": "code",
   "execution_count": 138,
   "id": "455b40f1",
   "metadata": {
    "ExecuteTime": {
     "end_time": "2022-08-22T20:52:05.573860Z",
     "start_time": "2022-08-22T20:52:05.536077Z"
    },
    "hidden": true
   },
   "outputs": [
    {
     "name": "stdout",
     "output_type": "stream",
     "text": [
      "{'value': 'DANONE'}\n",
      "{'value': 'DAMONET'}\n",
      "{'value': 'Davonel'}\n",
      "{'value': 'DANON LP'}\n",
      "{'value': 'DACONE SL'}\n",
      "{'value': 'DANONE AB'}\n",
      "{'value': 'DANONE RE'}\n",
      "{'value': 'DANONE SA'}\n",
      "{'value': 'DANONI AS'}\n",
      "{'value': 'DAYONE AS'}\n"
     ]
    }
   ],
   "source": [
    "for entity in my_json['data']:\n",
    "    print(entity['attributes'])"
   ]
  },
  {
   "cell_type": "markdown",
   "id": "be6b6dda",
   "metadata": {},
   "source": [
    "## Search for an entity (filter[entity.names])"
   ]
  },
  {
   "cell_type": "code",
   "execution_count": 11,
   "id": "f69c6ba3",
   "metadata": {
    "ExecuteTime": {
     "end_time": "2022-08-23T09:08:57.964872Z",
     "start_time": "2022-08-23T09:08:57.962412Z"
    }
   },
   "outputs": [],
   "source": [
    "url = \"https://api.gleif.org/api/v1/lei-records\""
   ]
  },
  {
   "cell_type": "code",
   "execution_count": 12,
   "id": "de53973c",
   "metadata": {
    "ExecuteTime": {
     "end_time": "2022-08-23T09:08:58.405225Z",
     "start_time": "2022-08-23T09:08:58.402227Z"
    }
   },
   "outputs": [],
   "source": [
    "user_input = \"danone\"\n",
    "page_number = 1\n",
    "page_size = 200"
   ]
  },
  {
   "cell_type": "code",
   "execution_count": 13,
   "id": "0ed3a719",
   "metadata": {
    "ExecuteTime": {
     "end_time": "2022-08-23T09:08:59.298393Z",
     "start_time": "2022-08-23T09:08:59.295429Z"
    }
   },
   "outputs": [],
   "source": [
    "params = {\n",
    "        \"filter[entity.names]\": user_input,\n",
    "        \"page[number]\": page_number,\n",
    "        \"page[size]\": page_size,\n",
    "    }"
   ]
  },
  {
   "cell_type": "code",
   "execution_count": 14,
   "id": "5b703775",
   "metadata": {
    "ExecuteTime": {
     "end_time": "2022-08-23T09:09:01.102014Z",
     "start_time": "2022-08-23T09:09:00.426554Z"
    }
   },
   "outputs": [],
   "source": [
    "response = requests.get(url, params=params).json()"
   ]
  },
  {
   "cell_type": "code",
   "execution_count": 15,
   "id": "e3fb93a9",
   "metadata": {
    "ExecuteTime": {
     "end_time": "2022-08-23T09:09:01.673340Z",
     "start_time": "2022-08-23T09:09:01.669111Z"
    }
   },
   "outputs": [
    {
     "name": "stdout",
     "output_type": "stream",
     "text": [
      "Showing only  200  out of  60  results.\n"
     ]
    }
   ],
   "source": [
    "print(\"Showing only \",response[\"meta\"][\"pagination\"][\"perPage\"],\" out of \",response[\"meta\"][\"pagination\"][\"total\"],\" results.\")"
   ]
  },
  {
   "cell_type": "code",
   "execution_count": 16,
   "id": "b6fab548",
   "metadata": {
    "ExecuteTime": {
     "end_time": "2022-08-23T09:09:10.455908Z",
     "start_time": "2022-08-23T09:09:10.360984Z"
    },
    "collapsed": true
   },
   "outputs": [
    {
     "name": "stdout",
     "output_type": "stream",
     "text": [
      "Name :  DANONE\n",
      "LEI :  969500KMUQ2B6CBAF162\n",
      "Address :  PARIS 9 ,  FR\n",
      "\n",
      "\n",
      "Name :  DANONE DYNAMIQUE\n",
      "LEI :  969500JN6C156IGKQ745\n",
      "Address :  PARIS 13 ,  FR\n",
      "\n",
      "\n",
      "Name :  DANONE MONETAIRE\n",
      "LEI :  969500LJH58TDSRNXM82\n",
      "Address :  PARIS 13 ,  FR\n",
      "\n",
      "\n",
      "Name :  FONDS DANONE\n",
      "LEI :  9695005QN0SFZZTEGT69\n",
      "Address :  PARIS 9 ,  FR\n",
      "\n",
      "\n",
      "Name :  DANONE\n",
      "LEI :  213800TK6J92598JEM48\n",
      "Address :  BRUXELLES ,  BE\n",
      "\n",
      "\n",
      "Name :  GROUPE DANONE DYNAMIQUE\n",
      "LEI :  969500XPJP95DRRQ9W94\n",
      "Address :  PARIS 13 ,  FR\n",
      "\n",
      "\n",
      "Name :  DANONE FINLAND OY\n",
      "LEI :  2138004HG8MO8Q747L22\n",
      "Address :  HELSINKI ,  FI\n",
      "\n",
      "\n",
      "Name :  FPS DANONE COMMUNITIES\n",
      "LEI :  969500MNFEVXGBRJKR54\n",
      "Address :  PARIS 8 ,  FR\n",
      "\n",
      "\n",
      "Name :  DANONE TRADING ELN B.V.\n",
      "LEI :  213800E6RDD96TGHZ336\n",
      "Address :  HOOFDDORP ,  NL\n",
      "\n",
      "\n",
      "Name :  DANONE S.R.O.\n",
      "LEI :  213800M6T9UKXB3L7G64\n",
      "Address :  BRATISLAVA ,  SK\n",
      "\n",
      "\n",
      "Name :  DANONE LIMITED\n",
      "LEI :  213800KHX6QZIXORTF05\n",
      "Address :  LONDON ,  GB\n",
      "\n",
      "\n",
      "Name :  DANONE AB\n",
      "LEI :  213800LUDZ3HKY1Q9W80\n",
      "Address :  SOLNA ,  SE\n",
      "\n",
      "\n",
      "Name :  DANONE S.P.A.\n",
      "LEI :  2138009WALL12RQH4A74\n",
      "Address :  MILANO ,  IT\n",
      "\n",
      "\n",
      "Name :  DANONE LIMITED\n",
      "LEI :  213800P9PSWULY8JD433\n",
      "Address :  DUBLIN ,  IE\n",
      "\n",
      "\n",
      "Name :  DANONE A.S.\n",
      "LEI :  213800GT37SNY6SHYQ67\n",
      "Address :  PRAHA ,  CZ\n",
      "\n",
      "\n",
      "Name :  DANONE RESEARCH\n",
      "LEI :  213800IU2R7QFEKUSP66\n",
      "Address :  PALAISEAU ,  FR\n",
      "\n",
      "\n",
      "Name :  DANONE SA\n",
      "LEI :  213800S18Y5XNF6TLB35\n",
      "Address :  BARCELONA ,  ES\n",
      "\n",
      "\n",
      "Name :  DANONE GMBH\n",
      "LEI :  2138005B5WZN8QPVC946\n",
      "Address :  HAAR ,  DE\n",
      "\n",
      "\n",
      "Name :  Danone d.o.o.\n",
      "LEI :  5493003GID2QAM6OQZ35\n",
      "Address :  Zagreb ,  HR\n",
      "\n",
      "\n",
      "Name :  DANONE MAGYARORSZÁG KORLÁTOLT FELELŐSSÉGŰ TÁRSASÁG\n",
      "LEI :  2138002B4SNGP4BIF540\n",
      "Address :  BUDAPEST ,  HU\n",
      "\n",
      "\n",
      "Name :  FONDS DANONE RELAIS 2022\n",
      "LEI :  969500G100AK6N2UD678\n",
      "Address :  PARIS 9 ,  FR\n",
      "\n",
      "\n",
      "Name :  FONDS DANONE RELAIS 2021\n",
      "LEI :  969500WL0C2G4AWMOZ80\n",
      "Address :  PARIS 9 ,  FR\n",
      "\n",
      "\n",
      "Name :  FONDS DANONE RELAIS 2020\n",
      "LEI :  9695005ETAM0FK0EBO37\n",
      "Address :  PARIS 9 ,  FR\n",
      "\n",
      "\n",
      "Name :  FONDS DANONE RELAIS 2019\n",
      "LEI :  969500UW9UDN3UPAWS66\n",
      "Address :  PARIS 9 ,  FR\n",
      "\n",
      "\n",
      "Name :  FONDS DANONE RELAIS 2018\n",
      "LEI :  969500RU34K21GMD0A24\n",
      "Address :  PARIS 9 ,  FR\n",
      "\n",
      "\n",
      "Name :  FONDS DANONE RELAIS 2017\n",
      "LEI :  969500NM42ZVBV2QDF22\n",
      "Address :  PARIS 9 ,  FR\n",
      "\n",
      "\n",
      "Name :  FONDS DANONE RELAIS 2016\n",
      "LEI :  969500I65W0ES3IRXP71\n",
      "Address :  PARIS 9 ,  FR\n",
      "\n",
      "\n",
      "Name :  FONDS DANONE RELAIS 2015\n",
      "LEI :  969500ENMGZN99NGDY36\n",
      "Address :  PARIS 9 ,  FR\n",
      "\n",
      "\n",
      "Name :  FONDS DANONE POUR L'ECOSYSTEME\n",
      "LEI :  9695001EBYSERQNW7D97\n",
      "Address :  PARIS 9 ,  FR\n",
      "\n",
      "\n",
      "Name :  FONDS DANONE RELAIS 2014\n",
      "LEI :  9695002BGLD7FAK5IB23\n",
      "Address :  PARIS 9 ,  FR\n",
      "\n",
      "\n",
      "Name :  FCPE DANONE COMMUNITIES SOLIDAIRE\n",
      "LEI :  969500OTHM57VAE3ID30\n",
      "Address :  PARIS 9 ,  FR\n",
      "\n",
      "\n",
      "Name :  DANONE CORPORATE FINANCE SERVICES\n",
      "LEI :  969500SIMI2R8N963031\n",
      "Address :  PARIS 9 ,  FR\n",
      "\n",
      "\n",
      "Name :  Danone Treuhand e.V.\n",
      "LEI :  3912006SUDQAEGKYO647\n",
      "Address :  Haar ,  DE\n",
      "\n",
      "\n",
      "Name :  DANONE WATERS BENELUX\n",
      "LEI :  549300TU1ZMYCYMY3G02\n",
      "Address :  BRUSSELS ,  BE\n",
      "\n",
      "\n",
      "Name :  DANONE HOLDINGS (UK)\n",
      "LEI :  213800BJFNZIKJ5IDZ06\n",
      "Address :  LONDON ,  GB\n",
      "\n",
      "\n",
      "Name :  COMPAGNIE GERVAIS DANONE\n",
      "LEI :  213800OVLCOV4SKH1W62\n",
      "Address :  PARIS ,  FR\n",
      "\n",
      "\n",
      "Name :  DANONE PORTUGAL, S.A.\n",
      "LEI :  213800FZFL4588HMEM49\n",
      "Address :  LISBOA ,  PT\n",
      "\n",
      "\n",
      "Name :  DANONE GESELLSCHAFT M.B.H.\n",
      "LEI :  213800T3ELR3BJ1X7M45\n",
      "Address :  WIEN ,  AT\n",
      "\n",
      "\n",
      "Name :  DANONE NEDERLAND B.V.\n",
      "LEI :  213800ZJTRT8F9GNOD73\n",
      "Address :  UTRECHT ,  NL\n",
      "\n",
      "\n",
      "Name :  DANONE DAIRY ASIA\n",
      "LEI :  213800XSBCM587K9K638\n",
      "Address :  PARIS ,  FR\n",
      "\n",
      "\n",
      "Name :  DANONE FINANCE INTERNATIONAL\n",
      "LEI :  5299000AKPN50675VA43\n",
      "Address :  PARIS ,  FR\n",
      "\n",
      "\n",
      "Name :  DANONE ΓΑΛΑΚΤΟΚΟΜΙΚΑ ΠΡΟΪΟΝΤΑ ΑΝΩΝΥΜΗ ΕΤΑΙΡΕΙΑ\n",
      "LEI :  2138005AQILQVWII3E86\n",
      "Address :  NEA KIFISIA, ATHENS ,  GR\n",
      "\n",
      "\n",
      "Name :  DANONE - PRODUCTIE SI DISTRIBUTIE DE PRODUSE ALIMENTARE SRL\n",
      "LEI :  21380035YLFFL86BZ353\n",
      "Address :  BUCURESTI ,  RO\n",
      "\n",
      "\n",
      "Name :  DANONE ASIA PTE LTD\n",
      "LEI :  213800K2N91HWW3XFB36\n",
      "Address :  SINGAPORE ,  SG\n",
      "\n",
      "\n",
      "Name :  DANONE PROBIOTICS PTE. LTD.\n",
      "LEI :  213800C4RNF5DQ78GO80\n",
      "Address :  SINGAPORE ,  SG\n",
      "\n",
      "\n",
      "Name :  Danone Share Participation Scheme\n",
      "LEI :  635400MCTIHE4PQR2D05\n",
      "Address :  Dublin ,  IE\n",
      "\n",
      "\n",
      "Name :  DANONE FINANCE COMPANY LIMITED\n",
      "LEI :  213800LVEF4Q8556C672\n",
      "Address :  LONDON ,  GB\n",
      "\n",
      "\n",
      "Name :  DANONE FINANCING UK LIMITED\n",
      "LEI :  213800E9DL87QEJMY335\n",
      "Address :  LONDON ,  GB\n",
      "\n",
      "\n",
      "Name :  DANONE FINANCIAL SERVICES SA\n",
      "LEI :  213800QA6R9VG1IVMA57\n",
      "Address :  ZÜRICH ,  CH\n",
      "\n",
      "\n",
      "Name :  YAKULT DANONE INDIA PRIVATE LIMITED\n",
      "LEI :  335800OR17VICV5LNJ67\n",
      "Address :  NEW DELHI ,  IN\n",
      "\n",
      "\n",
      "Name :  DANONE SPÓŁKA Z OGRANICZONĄ ODPOWIEDZIALNOŚCIĄ\n",
      "LEI :  213800KG5XVXQ8FOLI15\n",
      "Address :  WARSZAWA ,  PL\n",
      "\n",
      "\n",
      "Name :  DANONE WATERS (UK & IRELAND) LIMITED\n",
      "LEI :  2138006ZOLTVVYHYGC09\n",
      "Address :  LONDON ,  GB\n",
      "\n",
      "\n",
      "Name :  DANONE PRODUITS FRAIS FRANCE\n",
      "LEI :  213800HP5JSJGLWD1V89\n",
      "Address :  RUEIL-MALMAISON ,  FR\n",
      "\n",
      "\n",
      "Name :  บริษัท ดานอน สเปเชียลไลซ์ นิวทริชั่น (ประเทศไทย) จำกัด\n",
      "LEI :  2549006HJRDLXWRPMZ04\n",
      "Address :  Samutprakarn ,  TH\n",
      "\n",
      "\n",
      "Name :  NUTRICIA EARLY LIFE NUTRITION ROMANIA SRL\n",
      "LEI :  2138001ESXMFYFWW1L89\n",
      "Address :  BUCHAREST ,  RO\n",
      "\n",
      "\n",
      "Name :  DANONE RE\n",
      "LEI :  2221006U54IBJST8U288\n",
      "Address :  LUXEMBOURG ,  LU\n",
      "\n",
      "\n",
      "Name :  DANONE TİKVEŞLİ GIDA VE İÇECEK SANAYİ VE TİCARET ANONİM ŞİRKETİ\n",
      "LEI :  789000NXU6YB4HUBEG77\n",
      "Address :  ISTANBUL ,  TR\n",
      "\n",
      "\n",
      "Name :  DANONE HAYAT İÇECEK VE GIDA SANAYİ VE TİCARET ANONİM ŞİRKETİ\n",
      "LEI :  7890006WNN4JN6KX2Y80\n",
      "Address :  ISTANBUL ,  TR\n",
      "\n",
      "\n",
      "Name :  DANONE EUROPE LIMITED\n",
      "LEI :  213800JY465UUQ3H6R13\n",
      "Address :  DUBLIN ,  IE\n",
      "\n",
      "\n",
      "Name :  AGUAS DANONE SA\n",
      "LEI :  2138008W44RWVDSAPU84\n",
      "Address :  BARCELONA ,  ES\n",
      "\n",
      "\n"
     ]
    }
   ],
   "source": [
    "entity_list = []\n",
    "\n",
    "for json_entity in response[\"data\"]:\n",
    "\n",
    "    new_entity = Entity(\n",
    "        name=json_entity[\"attributes\"][\"entity\"][\"legalName\"][\"name\"],\n",
    "        lei=json_entity[\"id\"],\n",
    "        city=json_entity[\"attributes\"][\"entity\"][\"legalAddress\"]['city'],\n",
    "        country=json_entity[\"attributes\"][\"entity\"][\"legalAddress\"]['country'])\n",
    "\n",
    "    entity_list.append(new_entity)\n",
    "\n",
    "    print(\"Name : \", new_entity.name)\n",
    "    print(\"LEI : \", new_entity.lei)\n",
    "    print(\"Address : \", new_entity.city, \", \", new_entity.country)\n",
    "    print(\"\\n\")"
   ]
  },
  {
   "cell_type": "code",
   "execution_count": 25,
   "id": "80a87b1e",
   "metadata": {
    "ExecuteTime": {
     "end_time": "2022-08-23T09:21:01.700394Z",
     "start_time": "2022-08-23T09:21:01.641898Z"
    }
   },
   "outputs": [
    {
     "data": {
      "text/html": [
       "<div>\n",
       "<style scoped>\n",
       "    .dataframe tbody tr th:only-of-type {\n",
       "        vertical-align: middle;\n",
       "    }\n",
       "\n",
       "    .dataframe tbody tr th {\n",
       "        vertical-align: top;\n",
       "    }\n",
       "\n",
       "    .dataframe thead th {\n",
       "        text-align: right;\n",
       "    }\n",
       "</style>\n",
       "<table border=\"1\" class=\"dataframe\">\n",
       "  <thead>\n",
       "    <tr style=\"text-align: right;\">\n",
       "      <th></th>\n",
       "      <th>name</th>\n",
       "      <th>lei</th>\n",
       "      <th>city</th>\n",
       "      <th>country</th>\n",
       "    </tr>\n",
       "  </thead>\n",
       "  <tbody>\n",
       "    <tr>\n",
       "      <th>0</th>\n",
       "      <td>DANONE</td>\n",
       "      <td>969500KMUQ2B6CBAF162</td>\n",
       "      <td>PARIS 9</td>\n",
       "      <td>FR</td>\n",
       "    </tr>\n",
       "    <tr>\n",
       "      <th>1</th>\n",
       "      <td>DANONE DYNAMIQUE</td>\n",
       "      <td>969500JN6C156IGKQ745</td>\n",
       "      <td>PARIS 13</td>\n",
       "      <td>FR</td>\n",
       "    </tr>\n",
       "    <tr>\n",
       "      <th>2</th>\n",
       "      <td>DANONE MONETAIRE</td>\n",
       "      <td>969500LJH58TDSRNXM82</td>\n",
       "      <td>PARIS 13</td>\n",
       "      <td>FR</td>\n",
       "    </tr>\n",
       "    <tr>\n",
       "      <th>3</th>\n",
       "      <td>FONDS DANONE</td>\n",
       "      <td>9695005QN0SFZZTEGT69</td>\n",
       "      <td>PARIS 9</td>\n",
       "      <td>FR</td>\n",
       "    </tr>\n",
       "    <tr>\n",
       "      <th>4</th>\n",
       "      <td>DANONE</td>\n",
       "      <td>213800TK6J92598JEM48</td>\n",
       "      <td>BRUXELLES</td>\n",
       "      <td>BE</td>\n",
       "    </tr>\n",
       "    <tr>\n",
       "      <th>5</th>\n",
       "      <td>GROUPE DANONE DYNAMIQUE</td>\n",
       "      <td>969500XPJP95DRRQ9W94</td>\n",
       "      <td>PARIS 13</td>\n",
       "      <td>FR</td>\n",
       "    </tr>\n",
       "    <tr>\n",
       "      <th>6</th>\n",
       "      <td>DANONE FINLAND OY</td>\n",
       "      <td>2138004HG8MO8Q747L22</td>\n",
       "      <td>HELSINKI</td>\n",
       "      <td>FI</td>\n",
       "    </tr>\n",
       "    <tr>\n",
       "      <th>7</th>\n",
       "      <td>FPS DANONE COMMUNITIES</td>\n",
       "      <td>969500MNFEVXGBRJKR54</td>\n",
       "      <td>PARIS 8</td>\n",
       "      <td>FR</td>\n",
       "    </tr>\n",
       "    <tr>\n",
       "      <th>8</th>\n",
       "      <td>DANONE TRADING ELN B.V.</td>\n",
       "      <td>213800E6RDD96TGHZ336</td>\n",
       "      <td>HOOFDDORP</td>\n",
       "      <td>NL</td>\n",
       "    </tr>\n",
       "    <tr>\n",
       "      <th>9</th>\n",
       "      <td>DANONE S.R.O.</td>\n",
       "      <td>213800M6T9UKXB3L7G64</td>\n",
       "      <td>BRATISLAVA</td>\n",
       "      <td>SK</td>\n",
       "    </tr>\n",
       "    <tr>\n",
       "      <th>10</th>\n",
       "      <td>DANONE LIMITED</td>\n",
       "      <td>213800KHX6QZIXORTF05</td>\n",
       "      <td>LONDON</td>\n",
       "      <td>GB</td>\n",
       "    </tr>\n",
       "    <tr>\n",
       "      <th>11</th>\n",
       "      <td>DANONE AB</td>\n",
       "      <td>213800LUDZ3HKY1Q9W80</td>\n",
       "      <td>SOLNA</td>\n",
       "      <td>SE</td>\n",
       "    </tr>\n",
       "    <tr>\n",
       "      <th>12</th>\n",
       "      <td>DANONE S.P.A.</td>\n",
       "      <td>2138009WALL12RQH4A74</td>\n",
       "      <td>MILANO</td>\n",
       "      <td>IT</td>\n",
       "    </tr>\n",
       "    <tr>\n",
       "      <th>13</th>\n",
       "      <td>DANONE LIMITED</td>\n",
       "      <td>213800P9PSWULY8JD433</td>\n",
       "      <td>DUBLIN</td>\n",
       "      <td>IE</td>\n",
       "    </tr>\n",
       "    <tr>\n",
       "      <th>14</th>\n",
       "      <td>DANONE A.S.</td>\n",
       "      <td>213800GT37SNY6SHYQ67</td>\n",
       "      <td>PRAHA</td>\n",
       "      <td>CZ</td>\n",
       "    </tr>\n",
       "    <tr>\n",
       "      <th>15</th>\n",
       "      <td>DANONE RESEARCH</td>\n",
       "      <td>213800IU2R7QFEKUSP66</td>\n",
       "      <td>PALAISEAU</td>\n",
       "      <td>FR</td>\n",
       "    </tr>\n",
       "    <tr>\n",
       "      <th>16</th>\n",
       "      <td>DANONE SA</td>\n",
       "      <td>213800S18Y5XNF6TLB35</td>\n",
       "      <td>BARCELONA</td>\n",
       "      <td>ES</td>\n",
       "    </tr>\n",
       "    <tr>\n",
       "      <th>17</th>\n",
       "      <td>DANONE GMBH</td>\n",
       "      <td>2138005B5WZN8QPVC946</td>\n",
       "      <td>HAAR</td>\n",
       "      <td>DE</td>\n",
       "    </tr>\n",
       "    <tr>\n",
       "      <th>18</th>\n",
       "      <td>Danone d.o.o.</td>\n",
       "      <td>5493003GID2QAM6OQZ35</td>\n",
       "      <td>Zagreb</td>\n",
       "      <td>HR</td>\n",
       "    </tr>\n",
       "    <tr>\n",
       "      <th>19</th>\n",
       "      <td>DANONE MAGYARORSZÁG KORLÁTOLT FELELŐSSÉGŰ TÁRS...</td>\n",
       "      <td>2138002B4SNGP4BIF540</td>\n",
       "      <td>BUDAPEST</td>\n",
       "      <td>HU</td>\n",
       "    </tr>\n",
       "    <tr>\n",
       "      <th>20</th>\n",
       "      <td>FONDS DANONE RELAIS 2022</td>\n",
       "      <td>969500G100AK6N2UD678</td>\n",
       "      <td>PARIS 9</td>\n",
       "      <td>FR</td>\n",
       "    </tr>\n",
       "    <tr>\n",
       "      <th>21</th>\n",
       "      <td>FONDS DANONE RELAIS 2021</td>\n",
       "      <td>969500WL0C2G4AWMOZ80</td>\n",
       "      <td>PARIS 9</td>\n",
       "      <td>FR</td>\n",
       "    </tr>\n",
       "    <tr>\n",
       "      <th>22</th>\n",
       "      <td>FONDS DANONE RELAIS 2020</td>\n",
       "      <td>9695005ETAM0FK0EBO37</td>\n",
       "      <td>PARIS 9</td>\n",
       "      <td>FR</td>\n",
       "    </tr>\n",
       "    <tr>\n",
       "      <th>23</th>\n",
       "      <td>FONDS DANONE RELAIS 2019</td>\n",
       "      <td>969500UW9UDN3UPAWS66</td>\n",
       "      <td>PARIS 9</td>\n",
       "      <td>FR</td>\n",
       "    </tr>\n",
       "    <tr>\n",
       "      <th>24</th>\n",
       "      <td>FONDS DANONE RELAIS 2018</td>\n",
       "      <td>969500RU34K21GMD0A24</td>\n",
       "      <td>PARIS 9</td>\n",
       "      <td>FR</td>\n",
       "    </tr>\n",
       "    <tr>\n",
       "      <th>25</th>\n",
       "      <td>FONDS DANONE RELAIS 2017</td>\n",
       "      <td>969500NM42ZVBV2QDF22</td>\n",
       "      <td>PARIS 9</td>\n",
       "      <td>FR</td>\n",
       "    </tr>\n",
       "    <tr>\n",
       "      <th>26</th>\n",
       "      <td>FONDS DANONE RELAIS 2016</td>\n",
       "      <td>969500I65W0ES3IRXP71</td>\n",
       "      <td>PARIS 9</td>\n",
       "      <td>FR</td>\n",
       "    </tr>\n",
       "    <tr>\n",
       "      <th>27</th>\n",
       "      <td>FONDS DANONE RELAIS 2015</td>\n",
       "      <td>969500ENMGZN99NGDY36</td>\n",
       "      <td>PARIS 9</td>\n",
       "      <td>FR</td>\n",
       "    </tr>\n",
       "    <tr>\n",
       "      <th>28</th>\n",
       "      <td>FONDS DANONE POUR L'ECOSYSTEME</td>\n",
       "      <td>9695001EBYSERQNW7D97</td>\n",
       "      <td>PARIS 9</td>\n",
       "      <td>FR</td>\n",
       "    </tr>\n",
       "    <tr>\n",
       "      <th>29</th>\n",
       "      <td>FONDS DANONE RELAIS 2014</td>\n",
       "      <td>9695002BGLD7FAK5IB23</td>\n",
       "      <td>PARIS 9</td>\n",
       "      <td>FR</td>\n",
       "    </tr>\n",
       "    <tr>\n",
       "      <th>30</th>\n",
       "      <td>FCPE DANONE COMMUNITIES SOLIDAIRE</td>\n",
       "      <td>969500OTHM57VAE3ID30</td>\n",
       "      <td>PARIS 9</td>\n",
       "      <td>FR</td>\n",
       "    </tr>\n",
       "    <tr>\n",
       "      <th>31</th>\n",
       "      <td>DANONE CORPORATE FINANCE SERVICES</td>\n",
       "      <td>969500SIMI2R8N963031</td>\n",
       "      <td>PARIS 9</td>\n",
       "      <td>FR</td>\n",
       "    </tr>\n",
       "    <tr>\n",
       "      <th>32</th>\n",
       "      <td>Danone Treuhand e.V.</td>\n",
       "      <td>3912006SUDQAEGKYO647</td>\n",
       "      <td>Haar</td>\n",
       "      <td>DE</td>\n",
       "    </tr>\n",
       "    <tr>\n",
       "      <th>33</th>\n",
       "      <td>DANONE WATERS BENELUX</td>\n",
       "      <td>549300TU1ZMYCYMY3G02</td>\n",
       "      <td>BRUSSELS</td>\n",
       "      <td>BE</td>\n",
       "    </tr>\n",
       "    <tr>\n",
       "      <th>34</th>\n",
       "      <td>DANONE HOLDINGS (UK)</td>\n",
       "      <td>213800BJFNZIKJ5IDZ06</td>\n",
       "      <td>LONDON</td>\n",
       "      <td>GB</td>\n",
       "    </tr>\n",
       "    <tr>\n",
       "      <th>35</th>\n",
       "      <td>COMPAGNIE GERVAIS DANONE</td>\n",
       "      <td>213800OVLCOV4SKH1W62</td>\n",
       "      <td>PARIS</td>\n",
       "      <td>FR</td>\n",
       "    </tr>\n",
       "    <tr>\n",
       "      <th>36</th>\n",
       "      <td>DANONE PORTUGAL, S.A.</td>\n",
       "      <td>213800FZFL4588HMEM49</td>\n",
       "      <td>LISBOA</td>\n",
       "      <td>PT</td>\n",
       "    </tr>\n",
       "    <tr>\n",
       "      <th>37</th>\n",
       "      <td>DANONE GESELLSCHAFT M.B.H.</td>\n",
       "      <td>213800T3ELR3BJ1X7M45</td>\n",
       "      <td>WIEN</td>\n",
       "      <td>AT</td>\n",
       "    </tr>\n",
       "    <tr>\n",
       "      <th>38</th>\n",
       "      <td>DANONE NEDERLAND B.V.</td>\n",
       "      <td>213800ZJTRT8F9GNOD73</td>\n",
       "      <td>UTRECHT</td>\n",
       "      <td>NL</td>\n",
       "    </tr>\n",
       "    <tr>\n",
       "      <th>39</th>\n",
       "      <td>DANONE DAIRY ASIA</td>\n",
       "      <td>213800XSBCM587K9K638</td>\n",
       "      <td>PARIS</td>\n",
       "      <td>FR</td>\n",
       "    </tr>\n",
       "    <tr>\n",
       "      <th>40</th>\n",
       "      <td>DANONE FINANCE INTERNATIONAL</td>\n",
       "      <td>5299000AKPN50675VA43</td>\n",
       "      <td>PARIS</td>\n",
       "      <td>FR</td>\n",
       "    </tr>\n",
       "    <tr>\n",
       "      <th>41</th>\n",
       "      <td>DANONE ΓΑΛΑΚΤΟΚΟΜΙΚΑ ΠΡΟΪΟΝΤΑ ΑΝΩΝΥΜΗ ΕΤΑΙΡΕΙΑ</td>\n",
       "      <td>2138005AQILQVWII3E86</td>\n",
       "      <td>NEA KIFISIA, ATHENS</td>\n",
       "      <td>GR</td>\n",
       "    </tr>\n",
       "    <tr>\n",
       "      <th>42</th>\n",
       "      <td>DANONE - PRODUCTIE SI DISTRIBUTIE DE PRODUSE A...</td>\n",
       "      <td>21380035YLFFL86BZ353</td>\n",
       "      <td>BUCURESTI</td>\n",
       "      <td>RO</td>\n",
       "    </tr>\n",
       "    <tr>\n",
       "      <th>43</th>\n",
       "      <td>DANONE ASIA PTE LTD</td>\n",
       "      <td>213800K2N91HWW3XFB36</td>\n",
       "      <td>SINGAPORE</td>\n",
       "      <td>SG</td>\n",
       "    </tr>\n",
       "    <tr>\n",
       "      <th>44</th>\n",
       "      <td>DANONE PROBIOTICS PTE. LTD.</td>\n",
       "      <td>213800C4RNF5DQ78GO80</td>\n",
       "      <td>SINGAPORE</td>\n",
       "      <td>SG</td>\n",
       "    </tr>\n",
       "    <tr>\n",
       "      <th>45</th>\n",
       "      <td>Danone Share Participation Scheme</td>\n",
       "      <td>635400MCTIHE4PQR2D05</td>\n",
       "      <td>Dublin</td>\n",
       "      <td>IE</td>\n",
       "    </tr>\n",
       "    <tr>\n",
       "      <th>46</th>\n",
       "      <td>DANONE FINANCE COMPANY LIMITED</td>\n",
       "      <td>213800LVEF4Q8556C672</td>\n",
       "      <td>LONDON</td>\n",
       "      <td>GB</td>\n",
       "    </tr>\n",
       "    <tr>\n",
       "      <th>47</th>\n",
       "      <td>DANONE FINANCING UK LIMITED</td>\n",
       "      <td>213800E9DL87QEJMY335</td>\n",
       "      <td>LONDON</td>\n",
       "      <td>GB</td>\n",
       "    </tr>\n",
       "    <tr>\n",
       "      <th>48</th>\n",
       "      <td>DANONE FINANCIAL SERVICES SA</td>\n",
       "      <td>213800QA6R9VG1IVMA57</td>\n",
       "      <td>ZÜRICH</td>\n",
       "      <td>CH</td>\n",
       "    </tr>\n",
       "    <tr>\n",
       "      <th>49</th>\n",
       "      <td>YAKULT DANONE INDIA PRIVATE LIMITED</td>\n",
       "      <td>335800OR17VICV5LNJ67</td>\n",
       "      <td>NEW DELHI</td>\n",
       "      <td>IN</td>\n",
       "    </tr>\n",
       "    <tr>\n",
       "      <th>50</th>\n",
       "      <td>DANONE SPÓŁKA Z OGRANICZONĄ ODPOWIEDZIALNOŚCIĄ</td>\n",
       "      <td>213800KG5XVXQ8FOLI15</td>\n",
       "      <td>WARSZAWA</td>\n",
       "      <td>PL</td>\n",
       "    </tr>\n",
       "    <tr>\n",
       "      <th>51</th>\n",
       "      <td>DANONE WATERS (UK &amp; IRELAND) LIMITED</td>\n",
       "      <td>2138006ZOLTVVYHYGC09</td>\n",
       "      <td>LONDON</td>\n",
       "      <td>GB</td>\n",
       "    </tr>\n",
       "    <tr>\n",
       "      <th>52</th>\n",
       "      <td>DANONE PRODUITS FRAIS FRANCE</td>\n",
       "      <td>213800HP5JSJGLWD1V89</td>\n",
       "      <td>RUEIL-MALMAISON</td>\n",
       "      <td>FR</td>\n",
       "    </tr>\n",
       "    <tr>\n",
       "      <th>53</th>\n",
       "      <td>บริษัท ดานอน สเปเชียลไลซ์ นิวทริชั่น (ประเทศไท...</td>\n",
       "      <td>2549006HJRDLXWRPMZ04</td>\n",
       "      <td>Samutprakarn</td>\n",
       "      <td>TH</td>\n",
       "    </tr>\n",
       "    <tr>\n",
       "      <th>54</th>\n",
       "      <td>NUTRICIA EARLY LIFE NUTRITION ROMANIA SRL</td>\n",
       "      <td>2138001ESXMFYFWW1L89</td>\n",
       "      <td>BUCHAREST</td>\n",
       "      <td>RO</td>\n",
       "    </tr>\n",
       "    <tr>\n",
       "      <th>55</th>\n",
       "      <td>DANONE RE</td>\n",
       "      <td>2221006U54IBJST8U288</td>\n",
       "      <td>LUXEMBOURG</td>\n",
       "      <td>LU</td>\n",
       "    </tr>\n",
       "    <tr>\n",
       "      <th>56</th>\n",
       "      <td>DANONE TİKVEŞLİ GIDA VE İÇECEK SANAYİ VE TİCAR...</td>\n",
       "      <td>789000NXU6YB4HUBEG77</td>\n",
       "      <td>ISTANBUL</td>\n",
       "      <td>TR</td>\n",
       "    </tr>\n",
       "    <tr>\n",
       "      <th>57</th>\n",
       "      <td>DANONE HAYAT İÇECEK VE GIDA SANAYİ VE TİCARET ...</td>\n",
       "      <td>7890006WNN4JN6KX2Y80</td>\n",
       "      <td>ISTANBUL</td>\n",
       "      <td>TR</td>\n",
       "    </tr>\n",
       "    <tr>\n",
       "      <th>58</th>\n",
       "      <td>DANONE EUROPE LIMITED</td>\n",
       "      <td>213800JY465UUQ3H6R13</td>\n",
       "      <td>DUBLIN</td>\n",
       "      <td>IE</td>\n",
       "    </tr>\n",
       "    <tr>\n",
       "      <th>59</th>\n",
       "      <td>AGUAS DANONE SA</td>\n",
       "      <td>2138008W44RWVDSAPU84</td>\n",
       "      <td>BARCELONA</td>\n",
       "      <td>ES</td>\n",
       "    </tr>\n",
       "  </tbody>\n",
       "</table>\n",
       "</div>"
      ],
      "text/plain": [
       "                                                 name                   lei  \\\n",
       "0                                              DANONE  969500KMUQ2B6CBAF162   \n",
       "1                                    DANONE DYNAMIQUE  969500JN6C156IGKQ745   \n",
       "2                                    DANONE MONETAIRE  969500LJH58TDSRNXM82   \n",
       "3                                        FONDS DANONE  9695005QN0SFZZTEGT69   \n",
       "4                                              DANONE  213800TK6J92598JEM48   \n",
       "5                             GROUPE DANONE DYNAMIQUE  969500XPJP95DRRQ9W94   \n",
       "6                                   DANONE FINLAND OY  2138004HG8MO8Q747L22   \n",
       "7                              FPS DANONE COMMUNITIES  969500MNFEVXGBRJKR54   \n",
       "8                             DANONE TRADING ELN B.V.  213800E6RDD96TGHZ336   \n",
       "9                                       DANONE S.R.O.  213800M6T9UKXB3L7G64   \n",
       "10                                     DANONE LIMITED  213800KHX6QZIXORTF05   \n",
       "11                                          DANONE AB  213800LUDZ3HKY1Q9W80   \n",
       "12                                      DANONE S.P.A.  2138009WALL12RQH4A74   \n",
       "13                                     DANONE LIMITED  213800P9PSWULY8JD433   \n",
       "14                                        DANONE A.S.  213800GT37SNY6SHYQ67   \n",
       "15                                    DANONE RESEARCH  213800IU2R7QFEKUSP66   \n",
       "16                                          DANONE SA  213800S18Y5XNF6TLB35   \n",
       "17                                        DANONE GMBH  2138005B5WZN8QPVC946   \n",
       "18                                      Danone d.o.o.  5493003GID2QAM6OQZ35   \n",
       "19  DANONE MAGYARORSZÁG KORLÁTOLT FELELŐSSÉGŰ TÁRS...  2138002B4SNGP4BIF540   \n",
       "20                           FONDS DANONE RELAIS 2022  969500G100AK6N2UD678   \n",
       "21                           FONDS DANONE RELAIS 2021  969500WL0C2G4AWMOZ80   \n",
       "22                           FONDS DANONE RELAIS 2020  9695005ETAM0FK0EBO37   \n",
       "23                           FONDS DANONE RELAIS 2019  969500UW9UDN3UPAWS66   \n",
       "24                           FONDS DANONE RELAIS 2018  969500RU34K21GMD0A24   \n",
       "25                           FONDS DANONE RELAIS 2017  969500NM42ZVBV2QDF22   \n",
       "26                           FONDS DANONE RELAIS 2016  969500I65W0ES3IRXP71   \n",
       "27                           FONDS DANONE RELAIS 2015  969500ENMGZN99NGDY36   \n",
       "28                     FONDS DANONE POUR L'ECOSYSTEME  9695001EBYSERQNW7D97   \n",
       "29                           FONDS DANONE RELAIS 2014  9695002BGLD7FAK5IB23   \n",
       "30                  FCPE DANONE COMMUNITIES SOLIDAIRE  969500OTHM57VAE3ID30   \n",
       "31                  DANONE CORPORATE FINANCE SERVICES  969500SIMI2R8N963031   \n",
       "32                               Danone Treuhand e.V.  3912006SUDQAEGKYO647   \n",
       "33                              DANONE WATERS BENELUX  549300TU1ZMYCYMY3G02   \n",
       "34                               DANONE HOLDINGS (UK)  213800BJFNZIKJ5IDZ06   \n",
       "35                           COMPAGNIE GERVAIS DANONE  213800OVLCOV4SKH1W62   \n",
       "36                              DANONE PORTUGAL, S.A.  213800FZFL4588HMEM49   \n",
       "37                         DANONE GESELLSCHAFT M.B.H.  213800T3ELR3BJ1X7M45   \n",
       "38                              DANONE NEDERLAND B.V.  213800ZJTRT8F9GNOD73   \n",
       "39                                  DANONE DAIRY ASIA  213800XSBCM587K9K638   \n",
       "40                       DANONE FINANCE INTERNATIONAL  5299000AKPN50675VA43   \n",
       "41     DANONE ΓΑΛΑΚΤΟΚΟΜΙΚΑ ΠΡΟΪΟΝΤΑ ΑΝΩΝΥΜΗ ΕΤΑΙΡΕΙΑ  2138005AQILQVWII3E86   \n",
       "42  DANONE - PRODUCTIE SI DISTRIBUTIE DE PRODUSE A...  21380035YLFFL86BZ353   \n",
       "43                                DANONE ASIA PTE LTD  213800K2N91HWW3XFB36   \n",
       "44                        DANONE PROBIOTICS PTE. LTD.  213800C4RNF5DQ78GO80   \n",
       "45                  Danone Share Participation Scheme  635400MCTIHE4PQR2D05   \n",
       "46                     DANONE FINANCE COMPANY LIMITED  213800LVEF4Q8556C672   \n",
       "47                        DANONE FINANCING UK LIMITED  213800E9DL87QEJMY335   \n",
       "48                       DANONE FINANCIAL SERVICES SA  213800QA6R9VG1IVMA57   \n",
       "49                YAKULT DANONE INDIA PRIVATE LIMITED  335800OR17VICV5LNJ67   \n",
       "50     DANONE SPÓŁKA Z OGRANICZONĄ ODPOWIEDZIALNOŚCIĄ  213800KG5XVXQ8FOLI15   \n",
       "51               DANONE WATERS (UK & IRELAND) LIMITED  2138006ZOLTVVYHYGC09   \n",
       "52                       DANONE PRODUITS FRAIS FRANCE  213800HP5JSJGLWD1V89   \n",
       "53  บริษัท ดานอน สเปเชียลไลซ์ นิวทริชั่น (ประเทศไท...  2549006HJRDLXWRPMZ04   \n",
       "54          NUTRICIA EARLY LIFE NUTRITION ROMANIA SRL  2138001ESXMFYFWW1L89   \n",
       "55                                          DANONE RE  2221006U54IBJST8U288   \n",
       "56  DANONE TİKVEŞLİ GIDA VE İÇECEK SANAYİ VE TİCAR...  789000NXU6YB4HUBEG77   \n",
       "57  DANONE HAYAT İÇECEK VE GIDA SANAYİ VE TİCARET ...  7890006WNN4JN6KX2Y80   \n",
       "58                              DANONE EUROPE LIMITED  213800JY465UUQ3H6R13   \n",
       "59                                    AGUAS DANONE SA  2138008W44RWVDSAPU84   \n",
       "\n",
       "                   city country  \n",
       "0               PARIS 9      FR  \n",
       "1              PARIS 13      FR  \n",
       "2              PARIS 13      FR  \n",
       "3               PARIS 9      FR  \n",
       "4             BRUXELLES      BE  \n",
       "5              PARIS 13      FR  \n",
       "6              HELSINKI      FI  \n",
       "7               PARIS 8      FR  \n",
       "8             HOOFDDORP      NL  \n",
       "9            BRATISLAVA      SK  \n",
       "10               LONDON      GB  \n",
       "11                SOLNA      SE  \n",
       "12               MILANO      IT  \n",
       "13               DUBLIN      IE  \n",
       "14                PRAHA      CZ  \n",
       "15            PALAISEAU      FR  \n",
       "16            BARCELONA      ES  \n",
       "17                 HAAR      DE  \n",
       "18               Zagreb      HR  \n",
       "19             BUDAPEST      HU  \n",
       "20              PARIS 9      FR  \n",
       "21              PARIS 9      FR  \n",
       "22              PARIS 9      FR  \n",
       "23              PARIS 9      FR  \n",
       "24              PARIS 9      FR  \n",
       "25              PARIS 9      FR  \n",
       "26              PARIS 9      FR  \n",
       "27              PARIS 9      FR  \n",
       "28              PARIS 9      FR  \n",
       "29              PARIS 9      FR  \n",
       "30              PARIS 9      FR  \n",
       "31              PARIS 9      FR  \n",
       "32                 Haar      DE  \n",
       "33             BRUSSELS      BE  \n",
       "34               LONDON      GB  \n",
       "35                PARIS      FR  \n",
       "36               LISBOA      PT  \n",
       "37                 WIEN      AT  \n",
       "38              UTRECHT      NL  \n",
       "39                PARIS      FR  \n",
       "40                PARIS      FR  \n",
       "41  NEA KIFISIA, ATHENS      GR  \n",
       "42            BUCURESTI      RO  \n",
       "43            SINGAPORE      SG  \n",
       "44            SINGAPORE      SG  \n",
       "45               Dublin      IE  \n",
       "46               LONDON      GB  \n",
       "47               LONDON      GB  \n",
       "48               ZÜRICH      CH  \n",
       "49            NEW DELHI      IN  \n",
       "50             WARSZAWA      PL  \n",
       "51               LONDON      GB  \n",
       "52      RUEIL-MALMAISON      FR  \n",
       "53         Samutprakarn      TH  \n",
       "54            BUCHAREST      RO  \n",
       "55           LUXEMBOURG      LU  \n",
       "56             ISTANBUL      TR  \n",
       "57             ISTANBUL      TR  \n",
       "58               DUBLIN      IE  \n",
       "59            BARCELONA      ES  "
      ]
     },
     "execution_count": 25,
     "metadata": {},
     "output_type": "execute_result"
    }
   ],
   "source": [
    "entity_dict = {\"name\": [], \"lei\": [], \"city\": [], \"country\": []}\n",
    "\n",
    "for entity in entity_list:\n",
    "    entity_dict[\"name\"].append(entity.name)\n",
    "    entity_dict[\"lei\"].append(entity.lei)\n",
    "    entity_dict[\"city\"].append(entity.city)\n",
    "    entity_dict[\"country\"].append(entity.country)\n",
    "\n",
    "df = pd.DataFrame.from_dict(entity_dict)\n",
    "df"
   ]
  }
 ],
 "metadata": {
  "kernelspec": {
   "display_name": "Python 3 (ipykernel)",
   "language": "python",
   "name": "python3"
  },
  "language_info": {
   "codemirror_mode": {
    "name": "ipython",
    "version": 3
   },
   "file_extension": ".py",
   "mimetype": "text/x-python",
   "name": "python",
   "nbconvert_exporter": "python",
   "pygments_lexer": "ipython3",
   "version": "3.8.12"
  },
  "toc": {
   "base_numbering": 1,
   "nav_menu": {},
   "number_sections": true,
   "sideBar": true,
   "skip_h1_title": false,
   "title_cell": "Table of Contents",
   "title_sidebar": "Contents",
   "toc_cell": false,
   "toc_position": {},
   "toc_section_display": true,
   "toc_window_display": false
  },
  "varInspector": {
   "cols": {
    "lenName": 16,
    "lenType": 16,
    "lenVar": 40
   },
   "kernels_config": {
    "python": {
     "delete_cmd_postfix": "",
     "delete_cmd_prefix": "del ",
     "library": "var_list.py",
     "varRefreshCmd": "print(var_dic_list())"
    },
    "r": {
     "delete_cmd_postfix": ") ",
     "delete_cmd_prefix": "rm(",
     "library": "var_list.r",
     "varRefreshCmd": "cat(var_dic_list()) "
    }
   },
   "types_to_exclude": [
    "module",
    "function",
    "builtin_function_or_method",
    "instance",
    "_Feature"
   ],
   "window_display": false
  }
 },
 "nbformat": 4,
 "nbformat_minor": 5
}
