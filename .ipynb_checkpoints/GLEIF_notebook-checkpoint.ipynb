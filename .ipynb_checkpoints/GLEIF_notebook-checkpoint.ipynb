{
 "cells": [
  {
   "cell_type": "code",
   "execution_count": 19,
   "id": "246647c8",
   "metadata": {
    "ExecuteTime": {
     "end_time": "2022-08-23T09:12:59.157881Z",
     "start_time": "2022-08-23T09:12:58.290874Z"
    }
   },
   "outputs": [],
   "source": [
    "import requests\n",
    "import pandas as pd\n",
    "from explogleif.entity import Entity"
   ]
  },
  {
   "cell_type": "code",
   "execution_count": 2,
   "id": "7ee11b22",
   "metadata": {
    "ExecuteTime": {
     "end_time": "2022-08-22T12:57:09.930018Z",
     "start_time": "2022-08-22T12:57:09.927031Z"
    },
    "scrolled": true
   },
   "outputs": [],
   "source": [
    "# exemple with Danone FR, LEI: 969500KMUQ2B6CBAF162\n",
    "lei_danone = '969500KMUQ2B6CBAF162'\n"
   ]
  },
  {
   "cell_type": "markdown",
   "id": "f8b9970b",
   "metadata": {},
   "source": [
    "# Exploration de la base de données du LEI"
   ]
  },
  {
   "cell_type": "markdown",
   "id": "333bdf5a",
   "metadata": {
    "heading_collapsed": true
   },
   "source": [
    "## Count of LEIs + latest registration"
   ]
  },
  {
   "cell_type": "code",
   "execution_count": 112,
   "id": "61583bb4",
   "metadata": {
    "ExecuteTime": {
     "end_time": "2022-08-22T20:42:21.602932Z",
     "start_time": "2022-08-22T20:42:21.600521Z"
    },
    "hidden": true
   },
   "outputs": [],
   "source": [
    "url = 'https://api.gleif.org/api/v1/lei-records'"
   ]
  },
  {
   "cell_type": "code",
   "execution_count": 113,
   "id": "0ac9aae9",
   "metadata": {
    "ExecuteTime": {
     "end_time": "2022-08-22T20:42:22.169604Z",
     "start_time": "2022-08-22T20:42:22.166524Z"
    },
    "hidden": true
   },
   "outputs": [],
   "source": [
    "params = {\n",
    "    # Country code\n",
    "    # FR for France, DE for Germany and so on...\n",
    "    'filter[entity.legalAddress.country]': None,\n",
    "    \n",
    "    # Entity category\n",
    "    # BRANCH, FUND, SOLE_PROPRIETOR, GENERAL, RESIDENT_GOVERNMENT_ENTITY, INTERNATIONAL_ORGANIZATION\n",
    "    'filter[entity.category]': None,\n",
    "    \n",
    "    # List of status\n",
    "    # ISSUED, LAPSED, ANNULLED, PENDING_TRANSFER, PENDING_ARCHIVAL, DUPLICATE, RETIRED, MERGED\n",
    "    'filter[registration.status]': None,\n",
    "    \n",
    "    \n",
    "    # pagination\n",
    "    \n",
    "    # Which page to show, from the total result set. Must be at least 1.\n",
    "    'page[number]': 1,\n",
    "    \n",
    "    # Number of LEI Records to show in each page of results (one page per API response body). Must be between 1 and 200.\n",
    "    'page[size]': 1\n",
    "}"
   ]
  },
  {
   "cell_type": "code",
   "execution_count": 117,
   "id": "333acb3b",
   "metadata": {
    "ExecuteTime": {
     "end_time": "2022-08-22T20:42:40.519014Z",
     "start_time": "2022-08-22T20:42:40.268815Z"
    },
    "hidden": true
   },
   "outputs": [
    {
     "data": {
      "text/plain": [
       "<Response [200]>"
      ]
     },
     "execution_count": 117,
     "metadata": {},
     "output_type": "execute_result"
    }
   ],
   "source": [
    "response2 = requests.get(url,params=params)\n",
    "response2"
   ]
  },
  {
   "cell_type": "code",
   "execution_count": 118,
   "id": "4ba6d3c0",
   "metadata": {
    "ExecuteTime": {
     "end_time": "2022-08-22T20:42:41.286608Z",
     "start_time": "2022-08-22T20:42:41.283906Z"
    },
    "hidden": true
   },
   "outputs": [],
   "source": [
    "response2 = response2.json()"
   ]
  },
  {
   "cell_type": "code",
   "execution_count": 119,
   "id": "910ecf7c",
   "metadata": {
    "ExecuteTime": {
     "end_time": "2022-08-22T20:42:42.922286Z",
     "start_time": "2022-08-22T20:42:42.917825Z"
    },
    "hidden": true
   },
   "outputs": [
    {
     "data": {
      "text/plain": [
       "dict_keys(['meta', 'links', 'data'])"
      ]
     },
     "execution_count": 119,
     "metadata": {},
     "output_type": "execute_result"
    }
   ],
   "source": [
    "response2.keys()"
   ]
  },
  {
   "cell_type": "code",
   "execution_count": 120,
   "id": "671ef3d1",
   "metadata": {
    "ExecuteTime": {
     "end_time": "2022-08-22T20:42:44.668242Z",
     "start_time": "2022-08-22T20:42:44.663593Z"
    },
    "hidden": true
   },
   "outputs": [
    {
     "data": {
      "text/plain": [
       "2188202"
      ]
     },
     "execution_count": 120,
     "metadata": {},
     "output_type": "execute_result"
    }
   ],
   "source": [
    "response2['meta']['pagination']['total']"
   ]
  },
  {
   "cell_type": "code",
   "execution_count": 121,
   "id": "420f6fbf",
   "metadata": {
    "ExecuteTime": {
     "end_time": "2022-08-22T20:42:46.517959Z",
     "start_time": "2022-08-22T20:42:46.503869Z"
    },
    "hidden": true
   },
   "outputs": [
    {
     "data": {
      "text/plain": [
       "{'initialRegistrationDate': '2022-08-22T07:14:03Z',\n",
       " 'lastUpdateDate': '2022-08-22T07:17:33Z',\n",
       " 'status': 'ISSUED',\n",
       " 'nextRenewalDate': '2023-08-22T07:17:23Z',\n",
       " 'managingLou': '529900T8BM49AURSDO55',\n",
       " 'corroborationLevel': 'FULLY_CORROBORATED',\n",
       " 'validatedAt': {'id': 'RA000394', 'other': None},\n",
       " 'validatedAs': 'U22110DL1999PTC099814',\n",
       " 'otherValidationAuthorities': [{'validatedAt': {'id': 'RA000754'},\n",
       "   'validatedAs': '07AACCP5921G2ZI'}]}"
      ]
     },
     "execution_count": 121,
     "metadata": {},
     "output_type": "execute_result"
    }
   ],
   "source": [
    "response2['data'][0]['attributes']['registration']"
   ]
  },
  {
   "cell_type": "markdown",
   "id": "423095ac",
   "metadata": {
    "heading_collapsed": true
   },
   "source": [
    "## Search for an entity (fuzzy completion)"
   ]
  },
  {
   "cell_type": "code",
   "execution_count": 128,
   "id": "32502cca",
   "metadata": {
    "ExecuteTime": {
     "end_time": "2022-08-22T20:47:37.933998Z",
     "start_time": "2022-08-22T20:47:37.897096Z"
    },
    "hidden": true
   },
   "outputs": [],
   "source": [
    "url = \"https://api.gleif.org/api/v1/fuzzycompletions\""
   ]
  },
  {
   "cell_type": "code",
   "execution_count": 129,
   "id": "abd5bd35",
   "metadata": {
    "ExecuteTime": {
     "end_time": "2022-08-22T20:47:38.196699Z",
     "start_time": "2022-08-22T20:47:38.193274Z"
    },
    "hidden": true
   },
   "outputs": [],
   "source": [
    "user_input = \"danone\""
   ]
  },
  {
   "cell_type": "code",
   "execution_count": 130,
   "id": "7ac92c6b",
   "metadata": {
    "ExecuteTime": {
     "end_time": "2022-08-22T20:47:38.535393Z",
     "start_time": "2022-08-22T20:47:38.532077Z"
    },
    "hidden": true
   },
   "outputs": [],
   "source": [
    "params = {\n",
    "    'field': 'entity.legalName',\n",
    "    'q': user_input\n",
    "}"
   ]
  },
  {
   "cell_type": "code",
   "execution_count": 131,
   "id": "d9fc28bc",
   "metadata": {
    "ExecuteTime": {
     "end_time": "2022-08-22T20:47:39.191732Z",
     "start_time": "2022-08-22T20:47:38.954379Z"
    },
    "hidden": true,
    "scrolled": true
   },
   "outputs": [
    {
     "data": {
      "text/plain": [
       "<Response [200]>"
      ]
     },
     "execution_count": 131,
     "metadata": {},
     "output_type": "execute_result"
    }
   ],
   "source": [
    "requests.get(url,params=payload)"
   ]
  },
  {
   "cell_type": "code",
   "execution_count": 132,
   "id": "63e8f004",
   "metadata": {
    "ExecuteTime": {
     "end_time": "2022-08-22T20:47:39.551796Z",
     "start_time": "2022-08-22T20:47:39.369543Z"
    },
    "hidden": true
   },
   "outputs": [
    {
     "data": {
      "text/plain": [
       "<Response [200]>"
      ]
     },
     "execution_count": 132,
     "metadata": {},
     "output_type": "execute_result"
    }
   ],
   "source": [
    "response = requests.get(url,params=params)\n",
    "response"
   ]
  },
  {
   "cell_type": "code",
   "execution_count": 135,
   "id": "b4288a4f",
   "metadata": {
    "ExecuteTime": {
     "end_time": "2022-08-22T20:49:54.731229Z",
     "start_time": "2022-08-22T20:49:54.722206Z"
    },
    "hidden": true
   },
   "outputs": [
    {
     "data": {
      "text/plain": [
       "{'data': [{'type': 'fuzzycompletions', 'attributes': {'value': 'DANONE'}},\n",
       "  {'type': 'fuzzycompletions',\n",
       "   'attributes': {'value': 'DAMONET'},\n",
       "   'relationships': {'lei-records': {'data': {'type': 'lei-records',\n",
       "      'id': '894500P2FHRGMZXCWD75'},\n",
       "     'links': {'related': 'https://api.gleif.org/api/v1/lei-records/894500P2FHRGMZXCWD75'}}}},\n",
       "  {'type': 'fuzzycompletions',\n",
       "   'attributes': {'value': 'Davonel'},\n",
       "   'relationships': {'lei-records': {'data': {'type': 'lei-records',\n",
       "      'id': '894500Z11BHYAU2GDT58'},\n",
       "     'links': {'related': 'https://api.gleif.org/api/v1/lei-records/894500Z11BHYAU2GDT58'}}}},\n",
       "  {'type': 'fuzzycompletions',\n",
       "   'attributes': {'value': 'DANON LP'},\n",
       "   'relationships': {'lei-records': {'data': {'type': 'lei-records',\n",
       "      'id': '254900F6H310ZAE34N45'},\n",
       "     'links': {'related': 'https://api.gleif.org/api/v1/lei-records/254900F6H310ZAE34N45'}}}},\n",
       "  {'type': 'fuzzycompletions',\n",
       "   'attributes': {'value': 'DACONE SL'},\n",
       "   'relationships': {'lei-records': {'data': {'type': 'lei-records',\n",
       "      'id': '95980020140006005932'},\n",
       "     'links': {'related': 'https://api.gleif.org/api/v1/lei-records/95980020140006005932'}}}},\n",
       "  {'type': 'fuzzycompletions',\n",
       "   'attributes': {'value': 'DANONE AB'},\n",
       "   'relationships': {'lei-records': {'data': {'type': 'lei-records',\n",
       "      'id': '213800LUDZ3HKY1Q9W80'},\n",
       "     'links': {'related': 'https://api.gleif.org/api/v1/lei-records/213800LUDZ3HKY1Q9W80'}}}},\n",
       "  {'type': 'fuzzycompletions',\n",
       "   'attributes': {'value': 'DANONE RE'},\n",
       "   'relationships': {'lei-records': {'data': {'type': 'lei-records',\n",
       "      'id': '2221006U54IBJST8U288'},\n",
       "     'links': {'related': 'https://api.gleif.org/api/v1/lei-records/2221006U54IBJST8U288'}}}},\n",
       "  {'type': 'fuzzycompletions',\n",
       "   'attributes': {'value': 'DANONE SA'},\n",
       "   'relationships': {'lei-records': {'data': {'type': 'lei-records',\n",
       "      'id': '213800S18Y5XNF6TLB35'},\n",
       "     'links': {'related': 'https://api.gleif.org/api/v1/lei-records/213800S18Y5XNF6TLB35'}}}},\n",
       "  {'type': 'fuzzycompletions',\n",
       "   'attributes': {'value': 'DANONI AS'},\n",
       "   'relationships': {'lei-records': {'data': {'type': 'lei-records',\n",
       "      'id': '549300N7SEP481QXGL94'},\n",
       "     'links': {'related': 'https://api.gleif.org/api/v1/lei-records/549300N7SEP481QXGL94'}}}},\n",
       "  {'type': 'fuzzycompletions',\n",
       "   'attributes': {'value': 'DAYONE AS'},\n",
       "   'relationships': {'lei-records': {'data': {'type': 'lei-records',\n",
       "      'id': '549300DTGMRUDBHDEI19'},\n",
       "     'links': {'related': 'https://api.gleif.org/api/v1/lei-records/549300DTGMRUDBHDEI19'}}}}]}"
      ]
     },
     "execution_count": 135,
     "metadata": {},
     "output_type": "execute_result"
    }
   ],
   "source": [
    "my_json = response.json()\n",
    "my_json"
   ]
  },
  {
   "cell_type": "code",
   "execution_count": 138,
   "id": "455b40f1",
   "metadata": {
    "ExecuteTime": {
     "end_time": "2022-08-22T20:52:05.573860Z",
     "start_time": "2022-08-22T20:52:05.536077Z"
    },
    "hidden": true
   },
   "outputs": [
    {
     "name": "stdout",
     "output_type": "stream",
     "text": [
      "{'value': 'DANONE'}\n",
      "{'value': 'DAMONET'}\n",
      "{'value': 'Davonel'}\n",
      "{'value': 'DANON LP'}\n",
      "{'value': 'DACONE SL'}\n",
      "{'value': 'DANONE AB'}\n",
      "{'value': 'DANONE RE'}\n",
      "{'value': 'DANONE SA'}\n",
      "{'value': 'DANONI AS'}\n",
      "{'value': 'DAYONE AS'}\n"
     ]
    }
   ],
   "source": [
    "for entity in my_json['data']:\n",
    "    print(entity['attributes'])"
   ]
  },
  {
   "cell_type": "markdown",
   "id": "be6b6dda",
   "metadata": {},
   "source": [
    "## Search for an entity (filter[entity.names])"
   ]
  },
  {
   "cell_type": "code",
   "execution_count": 11,
   "id": "f69c6ba3",
   "metadata": {
    "ExecuteTime": {
     "end_time": "2022-08-23T09:08:57.964872Z",
     "start_time": "2022-08-23T09:08:57.962412Z"
    }
   },
   "outputs": [],
   "source": [
    "url = \"https://api.gleif.org/api/v1/lei-records\""
   ]
  },
  {
   "cell_type": "code",
   "execution_count": 12,
   "id": "de53973c",
   "metadata": {
    "ExecuteTime": {
     "end_time": "2022-08-23T09:08:58.405225Z",
     "start_time": "2022-08-23T09:08:58.402227Z"
    }
   },
   "outputs": [],
   "source": [
    "user_input = \"danone\"\n",
    "page_number = 1\n",
    "page_size = 200"
   ]
  },
  {
   "cell_type": "code",
   "execution_count": 13,
   "id": "0ed3a719",
   "metadata": {
    "ExecuteTime": {
     "end_time": "2022-08-23T09:08:59.298393Z",
     "start_time": "2022-08-23T09:08:59.295429Z"
    }
   },
   "outputs": [],
   "source": [
    "params = {\n",
    "        \"filter[entity.names]\": user_input,\n",
    "        \"page[number]\": page_number,\n",
    "        \"page[size]\": page_size,\n",
    "    }"
   ]
  },
  {
   "cell_type": "code",
   "execution_count": 14,
   "id": "5b703775",
   "metadata": {
    "ExecuteTime": {
     "end_time": "2022-08-23T09:09:01.102014Z",
     "start_time": "2022-08-23T09:09:00.426554Z"
    }
   },
   "outputs": [],
   "source": [
    "response = requests.get(url, params=params).json()"
   ]
  },
  {
   "cell_type": "code",
   "execution_count": 15,
   "id": "e3fb93a9",
   "metadata": {
    "ExecuteTime": {
     "end_time": "2022-08-23T09:09:01.673340Z",
     "start_time": "2022-08-23T09:09:01.669111Z"
    }
   },
   "outputs": [
    {
     "name": "stdout",
     "output_type": "stream",
     "text": [
      "Showing only  200  out of  60  results.\n"
     ]
    }
   ],
   "source": [
    "print(\"Showing only \",response[\"meta\"][\"pagination\"][\"perPage\"],\" out of \",response[\"meta\"][\"pagination\"][\"total\"],\" results.\")"
   ]
  },
  {
   "cell_type": "code",
   "execution_count": 16,
   "id": "b6fab548",
   "metadata": {
    "ExecuteTime": {
     "end_time": "2022-08-23T09:09:10.455908Z",
     "start_time": "2022-08-23T09:09:10.360984Z"
    },
    "scrolled": true
   },
   "outputs": [
    {
     "name": "stdout",
     "output_type": "stream",
     "text": [
      "Name :  DANONE\n",
      "LEI :  969500KMUQ2B6CBAF162\n",
      "Address :  PARIS 9 ,  FR\n",
      "\n",
      "\n",
      "Name :  DANONE DYNAMIQUE\n",
      "LEI :  969500JN6C156IGKQ745\n",
      "Address :  PARIS 13 ,  FR\n",
      "\n",
      "\n",
      "Name :  DANONE MONETAIRE\n",
      "LEI :  969500LJH58TDSRNXM82\n",
      "Address :  PARIS 13 ,  FR\n",
      "\n",
      "\n",
      "Name :  FONDS DANONE\n",
      "LEI :  9695005QN0SFZZTEGT69\n",
      "Address :  PARIS 9 ,  FR\n",
      "\n",
      "\n",
      "Name :  DANONE\n",
      "LEI :  213800TK6J92598JEM48\n",
      "Address :  BRUXELLES ,  BE\n",
      "\n",
      "\n",
      "Name :  GROUPE DANONE DYNAMIQUE\n",
      "LEI :  969500XPJP95DRRQ9W94\n",
      "Address :  PARIS 13 ,  FR\n",
      "\n",
      "\n",
      "Name :  DANONE FINLAND OY\n",
      "LEI :  2138004HG8MO8Q747L22\n",
      "Address :  HELSINKI ,  FI\n",
      "\n",
      "\n",
      "Name :  FPS DANONE COMMUNITIES\n",
      "LEI :  969500MNFEVXGBRJKR54\n",
      "Address :  PARIS 8 ,  FR\n",
      "\n",
      "\n",
      "Name :  DANONE TRADING ELN B.V.\n",
      "LEI :  213800E6RDD96TGHZ336\n",
      "Address :  HOOFDDORP ,  NL\n",
      "\n",
      "\n",
      "Name :  DANONE S.R.O.\n",
      "LEI :  213800M6T9UKXB3L7G64\n",
      "Address :  BRATISLAVA ,  SK\n",
      "\n",
      "\n",
      "Name :  DANONE LIMITED\n",
      "LEI :  213800KHX6QZIXORTF05\n",
      "Address :  LONDON ,  GB\n",
      "\n",
      "\n",
      "Name :  DANONE AB\n",
      "LEI :  213800LUDZ3HKY1Q9W80\n",
      "Address :  SOLNA ,  SE\n",
      "\n",
      "\n",
      "Name :  DANONE S.P.A.\n",
      "LEI :  2138009WALL12RQH4A74\n",
      "Address :  MILANO ,  IT\n",
      "\n",
      "\n",
      "Name :  DANONE LIMITED\n",
      "LEI :  213800P9PSWULY8JD433\n",
      "Address :  DUBLIN ,  IE\n",
      "\n",
      "\n",
      "Name :  DANONE A.S.\n",
      "LEI :  213800GT37SNY6SHYQ67\n",
      "Address :  PRAHA ,  CZ\n",
      "\n",
      "\n",
      "Name :  DANONE RESEARCH\n",
      "LEI :  213800IU2R7QFEKUSP66\n",
      "Address :  PALAISEAU ,  FR\n",
      "\n",
      "\n",
      "Name :  DANONE SA\n",
      "LEI :  213800S18Y5XNF6TLB35\n",
      "Address :  BARCELONA ,  ES\n",
      "\n",
      "\n",
      "Name :  DANONE GMBH\n",
      "LEI :  2138005B5WZN8QPVC946\n",
      "Address :  HAAR ,  DE\n",
      "\n",
      "\n",
      "Name :  Danone d.o.o.\n",
      "LEI :  5493003GID2QAM6OQZ35\n",
      "Address :  Zagreb ,  HR\n",
      "\n",
      "\n",
      "Name :  DANONE MAGYARORSZÁG KORLÁTOLT FELELŐSSÉGŰ TÁRSASÁG\n",
      "LEI :  2138002B4SNGP4BIF540\n",
      "Address :  BUDAPEST ,  HU\n",
      "\n",
      "\n",
      "Name :  FONDS DANONE RELAIS 2022\n",
      "LEI :  969500G100AK6N2UD678\n",
      "Address :  PARIS 9 ,  FR\n",
      "\n",
      "\n",
      "Name :  FONDS DANONE RELAIS 2021\n",
      "LEI :  969500WL0C2G4AWMOZ80\n",
      "Address :  PARIS 9 ,  FR\n",
      "\n",
      "\n",
      "Name :  FONDS DANONE RELAIS 2020\n",
      "LEI :  9695005ETAM0FK0EBO37\n",
      "Address :  PARIS 9 ,  FR\n",
      "\n",
      "\n",
      "Name :  FONDS DANONE RELAIS 2019\n",
      "LEI :  969500UW9UDN3UPAWS66\n",
      "Address :  PARIS 9 ,  FR\n",
      "\n",
      "\n",
      "Name :  FONDS DANONE RELAIS 2018\n",
      "LEI :  969500RU34K21GMD0A24\n",
      "Address :  PARIS 9 ,  FR\n",
      "\n",
      "\n",
      "Name :  FONDS DANONE RELAIS 2017\n",
      "LEI :  969500NM42ZVBV2QDF22\n",
      "Address :  PARIS 9 ,  FR\n",
      "\n",
      "\n",
      "Name :  FONDS DANONE RELAIS 2016\n",
      "LEI :  969500I65W0ES3IRXP71\n",
      "Address :  PARIS 9 ,  FR\n",
      "\n",
      "\n",
      "Name :  FONDS DANONE RELAIS 2015\n",
      "LEI :  969500ENMGZN99NGDY36\n",
      "Address :  PARIS 9 ,  FR\n",
      "\n",
      "\n",
      "Name :  FONDS DANONE POUR L'ECOSYSTEME\n",
      "LEI :  9695001EBYSERQNW7D97\n",
      "Address :  PARIS 9 ,  FR\n",
      "\n",
      "\n",
      "Name :  FONDS DANONE RELAIS 2014\n",
      "LEI :  9695002BGLD7FAK5IB23\n",
      "Address :  PARIS 9 ,  FR\n",
      "\n",
      "\n",
      "Name :  FCPE DANONE COMMUNITIES SOLIDAIRE\n",
      "LEI :  969500OTHM57VAE3ID30\n",
      "Address :  PARIS 9 ,  FR\n",
      "\n",
      "\n",
      "Name :  DANONE CORPORATE FINANCE SERVICES\n",
      "LEI :  969500SIMI2R8N963031\n",
      "Address :  PARIS 9 ,  FR\n",
      "\n",
      "\n",
      "Name :  Danone Treuhand e.V.\n",
      "LEI :  3912006SUDQAEGKYO647\n",
      "Address :  Haar ,  DE\n",
      "\n",
      "\n",
      "Name :  DANONE WATERS BENELUX\n",
      "LEI :  549300TU1ZMYCYMY3G02\n",
      "Address :  BRUSSELS ,  BE\n",
      "\n",
      "\n",
      "Name :  DANONE HOLDINGS (UK)\n",
      "LEI :  213800BJFNZIKJ5IDZ06\n",
      "Address :  LONDON ,  GB\n",
      "\n",
      "\n",
      "Name :  COMPAGNIE GERVAIS DANONE\n",
      "LEI :  213800OVLCOV4SKH1W62\n",
      "Address :  PARIS ,  FR\n",
      "\n",
      "\n",
      "Name :  DANONE PORTUGAL, S.A.\n",
      "LEI :  213800FZFL4588HMEM49\n",
      "Address :  LISBOA ,  PT\n",
      "\n",
      "\n",
      "Name :  DANONE GESELLSCHAFT M.B.H.\n",
      "LEI :  213800T3ELR3BJ1X7M45\n",
      "Address :  WIEN ,  AT\n",
      "\n",
      "\n",
      "Name :  DANONE NEDERLAND B.V.\n",
      "LEI :  213800ZJTRT8F9GNOD73\n",
      "Address :  UTRECHT ,  NL\n",
      "\n",
      "\n",
      "Name :  DANONE DAIRY ASIA\n",
      "LEI :  213800XSBCM587K9K638\n",
      "Address :  PARIS ,  FR\n",
      "\n",
      "\n",
      "Name :  DANONE FINANCE INTERNATIONAL\n",
      "LEI :  5299000AKPN50675VA43\n",
      "Address :  PARIS ,  FR\n",
      "\n",
      "\n",
      "Name :  DANONE ΓΑΛΑΚΤΟΚΟΜΙΚΑ ΠΡΟΪΟΝΤΑ ΑΝΩΝΥΜΗ ΕΤΑΙΡΕΙΑ\n",
      "LEI :  2138005AQILQVWII3E86\n",
      "Address :  NEA KIFISIA, ATHENS ,  GR\n",
      "\n",
      "\n",
      "Name :  DANONE - PRODUCTIE SI DISTRIBUTIE DE PRODUSE ALIMENTARE SRL\n",
      "LEI :  21380035YLFFL86BZ353\n",
      "Address :  BUCURESTI ,  RO\n",
      "\n",
      "\n",
      "Name :  DANONE ASIA PTE LTD\n",
      "LEI :  213800K2N91HWW3XFB36\n",
      "Address :  SINGAPORE ,  SG\n",
      "\n",
      "\n",
      "Name :  DANONE PROBIOTICS PTE. LTD.\n",
      "LEI :  213800C4RNF5DQ78GO80\n",
      "Address :  SINGAPORE ,  SG\n",
      "\n",
      "\n",
      "Name :  Danone Share Participation Scheme\n",
      "LEI :  635400MCTIHE4PQR2D05\n",
      "Address :  Dublin ,  IE\n",
      "\n",
      "\n",
      "Name :  DANONE FINANCE COMPANY LIMITED\n",
      "LEI :  213800LVEF4Q8556C672\n",
      "Address :  LONDON ,  GB\n",
      "\n",
      "\n",
      "Name :  DANONE FINANCING UK LIMITED\n",
      "LEI :  213800E9DL87QEJMY335\n",
      "Address :  LONDON ,  GB\n",
      "\n",
      "\n",
      "Name :  DANONE FINANCIAL SERVICES SA\n",
      "LEI :  213800QA6R9VG1IVMA57\n",
      "Address :  ZÜRICH ,  CH\n",
      "\n",
      "\n",
      "Name :  YAKULT DANONE INDIA PRIVATE LIMITED\n",
      "LEI :  335800OR17VICV5LNJ67\n",
      "Address :  NEW DELHI ,  IN\n",
      "\n",
      "\n",
      "Name :  DANONE SPÓŁKA Z OGRANICZONĄ ODPOWIEDZIALNOŚCIĄ\n",
      "LEI :  213800KG5XVXQ8FOLI15\n",
      "Address :  WARSZAWA ,  PL\n",
      "\n",
      "\n",
      "Name :  DANONE WATERS (UK & IRELAND) LIMITED\n",
      "LEI :  2138006ZOLTVVYHYGC09\n",
      "Address :  LONDON ,  GB\n",
      "\n",
      "\n",
      "Name :  DANONE PRODUITS FRAIS FRANCE\n",
      "LEI :  213800HP5JSJGLWD1V89\n",
      "Address :  RUEIL-MALMAISON ,  FR\n",
      "\n",
      "\n",
      "Name :  บริษัท ดานอน สเปเชียลไลซ์ นิวทริชั่น (ประเทศไทย) จำกัด\n",
      "LEI :  2549006HJRDLXWRPMZ04\n",
      "Address :  Samutprakarn ,  TH\n",
      "\n",
      "\n",
      "Name :  NUTRICIA EARLY LIFE NUTRITION ROMANIA SRL\n",
      "LEI :  2138001ESXMFYFWW1L89\n",
      "Address :  BUCHAREST ,  RO\n",
      "\n",
      "\n",
      "Name :  DANONE RE\n",
      "LEI :  2221006U54IBJST8U288\n",
      "Address :  LUXEMBOURG ,  LU\n",
      "\n",
      "\n",
      "Name :  DANONE TİKVEŞLİ GIDA VE İÇECEK SANAYİ VE TİCARET ANONİM ŞİRKETİ\n",
      "LEI :  789000NXU6YB4HUBEG77\n",
      "Address :  ISTANBUL ,  TR\n",
      "\n",
      "\n",
      "Name :  DANONE HAYAT İÇECEK VE GIDA SANAYİ VE TİCARET ANONİM ŞİRKETİ\n",
      "LEI :  7890006WNN4JN6KX2Y80\n",
      "Address :  ISTANBUL ,  TR\n",
      "\n",
      "\n",
      "Name :  DANONE EUROPE LIMITED\n",
      "LEI :  213800JY465UUQ3H6R13\n",
      "Address :  DUBLIN ,  IE\n",
      "\n",
      "\n",
      "Name :  AGUAS DANONE SA\n",
      "LEI :  2138008W44RWVDSAPU84\n",
      "Address :  BARCELONA ,  ES\n",
      "\n",
      "\n"
     ]
    }
   ],
   "source": [
    "entity_list = []\n",
    "\n",
    "for json_entity in response[\"data\"]:\n",
    "    \n",
    "    new_entity = Entity(name = json_entity[\"attributes\"][\"entity\"][\"legalName\"][\"name\"],\n",
    "                             lei = json_entity[\"id\"],\n",
    "                             city=json_entity[\"attributes\"][\"entity\"][\"legalAddress\"]['city'],\n",
    "                             country=json_entity[\"attributes\"][\"entity\"][\"legalAddress\"]['country'])\n",
    "    \n",
    "    entity_list.append(new_entity)\n",
    "    \n",
    "    print(\"Name : \", new_entity.name)\n",
    "    print(\"LEI : \", new_entity.lei)\n",
    "    print(\"Address : \", new_entity.city,\", \",new_entity.country)\n",
    "    print(\"\\n\")"
   ]
  },
  {
   "cell_type": "code",
   "execution_count": 18,
   "id": "854b0b8a",
   "metadata": {
    "ExecuteTime": {
     "end_time": "2022-08-23T09:09:31.933574Z",
     "start_time": "2022-08-23T09:09:31.929357Z"
    }
   },
   "outputs": [
    {
     "data": {
      "text/plain": [
       "60"
      ]
     },
     "execution_count": 18,
     "metadata": {},
     "output_type": "execute_result"
    }
   ],
   "source": [
    "entity_dict :{\n",
    "    \"Name\":[],\n",
    "    \"LEI\":[],\n",
    "    \"Address\":[],\n",
    "    \"City\":[],\n",
    "    \"Country\":[]\n",
    "}"
   ]
  }
 ],
 "metadata": {
  "kernelspec": {
   "display_name": "Python 3 (ipykernel)",
   "language": "python",
   "name": "python3"
  },
  "language_info": {
   "codemirror_mode": {
    "name": "ipython",
    "version": 3
   },
   "file_extension": ".py",
   "mimetype": "text/x-python",
   "name": "python",
   "nbconvert_exporter": "python",
   "pygments_lexer": "ipython3",
   "version": "3.8.12"
  },
  "toc": {
   "base_numbering": 1,
   "nav_menu": {},
   "number_sections": true,
   "sideBar": true,
   "skip_h1_title": false,
   "title_cell": "Table of Contents",
   "title_sidebar": "Contents",
   "toc_cell": false,
   "toc_position": {},
   "toc_section_display": true,
   "toc_window_display": false
  },
  "varInspector": {
   "cols": {
    "lenName": 16,
    "lenType": 16,
    "lenVar": 40
   },
   "kernels_config": {
    "python": {
     "delete_cmd_postfix": "",
     "delete_cmd_prefix": "del ",
     "library": "var_list.py",
     "varRefreshCmd": "print(var_dic_list())"
    },
    "r": {
     "delete_cmd_postfix": ") ",
     "delete_cmd_prefix": "rm(",
     "library": "var_list.r",
     "varRefreshCmd": "cat(var_dic_list()) "
    }
   },
   "types_to_exclude": [
    "module",
    "function",
    "builtin_function_or_method",
    "instance",
    "_Feature"
   ],
   "window_display": false
  }
 },
 "nbformat": 4,
 "nbformat_minor": 5
}
